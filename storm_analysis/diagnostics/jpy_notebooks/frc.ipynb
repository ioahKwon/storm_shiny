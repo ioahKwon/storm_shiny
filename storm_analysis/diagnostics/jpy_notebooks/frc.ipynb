{
 "cells": [
  {
   "cell_type": "markdown",
   "metadata": {},
   "source": [
    "## Diagnostics for FRC measurement"
   ]
  },
  {
   "cell_type": "markdown",
   "metadata": {},
   "source": [
    "### Configure environment"
   ]
  },
  {
   "cell_type": "code",
   "execution_count": null,
   "metadata": {},
   "outputs": [],
   "source": [
    "import os\n",
    "os.chdir(\"/home/hbabcock/Data/storm_analysis/sa_diagnostics/frc\")\n",
    "print(os.getcwd())\n",
    "\n",
    "import numpy\n",
    "numpy.random.seed(1)"
   ]
  },
  {
   "cell_type": "code",
   "execution_count": null,
   "metadata": {},
   "outputs": [],
   "source": [
    "import storm_analysis.diagnostics.frc.settings as settings\n",
    "import storm_analysis.diagnostics.frc.configure as configure\n",
    "import storm_analysis.diagnostics.frc.make_data as makeData\n",
    "import storm_analysis.diagnostics.frc.analyze_data as analyzeData\n",
    "import storm_analysis.diagnostics.frc.collate as collate\n"
   ]
  },
  {
   "cell_type": "markdown",
   "metadata": {},
   "source": [
    "### Configure"
   ]
  },
  {
   "cell_type": "code",
   "execution_count": null,
   "metadata": {},
   "outputs": [],
   "source": [
    "configure.configure()"
   ]
  },
  {
   "cell_type": "markdown",
   "metadata": {},
   "source": [
    "### Make Data"
   ]
  },
  {
   "cell_type": "code",
   "execution_count": null,
   "metadata": {},
   "outputs": [],
   "source": [
    "makeData.makeData()"
   ]
  },
  {
   "cell_type": "markdown",
   "metadata": {},
   "source": [
    "### Analyze data"
   ]
  },
  {
   "cell_type": "code",
   "execution_count": null,
   "metadata": {},
   "outputs": [],
   "source": [
    "%time analyzeData.analyzeData()"
   ]
  },
  {
   "cell_type": "markdown",
   "metadata": {},
   "source": [
    "### Collate data"
   ]
  },
  {
   "cell_type": "code",
   "execution_count": null,
   "metadata": {},
   "outputs": [],
   "source": [
    "collate.collate()"
   ]
  },
  {
   "cell_type": "markdown",
   "metadata": {},
   "source": [
    "### Reference results"
   ]
  },
  {
   "cell_type": "raw",
   "metadata": {},
   "source": [
    "2019-10-30\n",
    "commit 04f632fe13d41de0c14fad58c79e207f4ec54f47\n",
    "\n",
    "2 reps, resolution is 304.8 nm\n",
    "4 reps, resolution is 278.3 nm\n",
    "8 reps, resolution is 263.9 nm\n",
    "16 reps, resolution is 243.8 nm"
   ]
  }
 ],
 "metadata": {
  "kernelspec": {
   "display_name": "Python 3",
   "language": "python",
   "name": "python3"
  },
  "language_info": {
   "codemirror_mode": {
    "name": "ipython",
    "version": 3
   },
   "file_extension": ".py",
   "mimetype": "text/x-python",
   "name": "python",
   "nbconvert_exporter": "python",
   "pygments_lexer": "ipython3",
   "version": "3.6.8"
  }
 },
 "nbformat": 4,
 "nbformat_minor": 2
}

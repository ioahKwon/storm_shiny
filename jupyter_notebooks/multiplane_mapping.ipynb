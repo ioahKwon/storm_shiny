{
 "cells": [
  {
   "cell_type": "markdown",
   "metadata": {},
   "source": [
    "## Measuring mapping for Multiplane Analysis\n",
    "\n",
    "In this example we'll measure the channel to channel mapping necessary for multiplane analysis.\n",
    "\n",
    "The mapping is a first order linear transform:\n",
    "\n",
    "\\begin{equation*}\n",
    "\\begin{bmatrix}\n",
    "x_{f}\\\\\n",
    "y_{f}\n",
    "\\end{bmatrix}\n",
    "=\n",
    "\\begin{bmatrix}\n",
    "A & B & C\\\\\n",
    "D & E & F\n",
    "\\end{bmatrix}\n",
    "\\times\n",
    "\\begin{bmatrix}\n",
    "1\\\\\n",
    "x_{i}\\\\\n",
    "y_{i}\\\\\n",
    "\\end{bmatrix}\n",
    "\\end{equation*}\n",
    "\n",
    "It describes how to go between the coordinate systems of the different cameras. This relatively simple mapping is good enough for multiplane analysis, which does not require extremely high accuracy. For this analysis mapping errors on the scale of ~0.2 pixels are sufficient.\n",
    "\n",
    "Further details about how the mapping is determined can be found in the `micrometry_mapping` notebook.\n"
   ]
  },
  {
   "cell_type": "markdown",
   "metadata": {},
   "source": [
    "### Configuration\n",
    "\n",
    "In real experiments you'd use a slide with sparse fiducials such as beads. The slide is quickly scanned through the focus planes of the different cameras to minimize the effects of any drift in X/Y. A single in focus image for each channel is then analyzed with `3D-DAOSTORM` or `sCMOS`.\n"
   ]
  },
  {
   "cell_type": "code",
   "execution_count": null,
   "metadata": {},
   "outputs": [],
   "source": [
    "import os\n",
    "os.chdir(\"/home/hbabcock/Data/storm_analysis/jy_testing/\")\n",
    "print(os.getcwd())\n",
    "\n",
    "import numpy\n",
    "numpy.random.seed(1) # Set seed so that the example is repeatable."
   ]
  },
  {
   "cell_type": "markdown",
   "metadata": {},
   "source": [
    "Generate the sample data for this example. \n",
    "\n",
    "In this case we're just going to simulate sparse fiducials. "
   ]
  },
  {
   "cell_type": "code",
   "execution_count": null,
   "metadata": {},
   "outputs": [],
   "source": [
    "import storm_analysis.jupyter_examples.multiplane_mapping as multiplane_mapping\n",
    "\n",
    "# Make a fake sCMOS calibration file.\n",
    "multiplane_mapping.makeCMOSCalibration()\n",
    "\n",
    "# Make an sCMOS analysis XML file.\n",
    "multiplane_mapping.sCMOSXML()\n"
   ]
  },
  {
   "cell_type": "code",
   "execution_count": null,
   "metadata": {},
   "outputs": [],
   "source": [
    "# This is the format of the mapping file that is used for multiplane imaging.\n",
    "#\n",
    "# In this particular mapping each channel is translated relative to the reference channel, channel 0.\n",
    "# Also there are 3 different channels.\n",
    "#\n",
    "mappings = {\"0_0_x\" : numpy.array([0.0, 1.0, 0.0]),\n",
    "            \"0_0_y\" : numpy.array([0.0, 0.0, 1.0]),\n",
    "            \"0_1_x\" : numpy.array([2.0, 1.0, 0.0]),\n",
    "            \"0_1_y\" : numpy.array([5.0, 0.0, 1.0]),\n",
    "            \"1_0_x\" : numpy.array([-2.0, 1.0, 0.0]),\n",
    "            \"1_0_y\" : numpy.array([-5.0, 0.0, 1.0]),\n",
    "            \"0_2_x\" : numpy.array([3.0, 1.0, 0.0]),\n",
    "            \"0_2_y\" : numpy.array([4.0, 0.0, 1.0]),\n",
    "            \"2_0_x\" : numpy.array([-3.0, 1.0, 0.0]),\n",
    "            \"2_0_y\" : numpy.array([-4.0, 0.0, 1.0])}\n",
    "n_planes = 3            \n",
    "\n",
    "multiplane_mapping.makeSampleData(mappings)\n"
   ]
  },
  {
   "cell_type": "markdown",
   "metadata": {},
   "source": [
    "### Analyze fiducial movies with sCMOS analysis"
   ]
  },
  {
   "cell_type": "code",
   "execution_count": null,
   "metadata": {},
   "outputs": [],
   "source": [
    "import storm_analysis.sCMOS.scmos_analysis as scmosAnalysis\n",
    "\n",
    "for i in range(n_planes):\n",
    "    \n",
    "    # Remove stale results, if any.\n",
    "    h5_name = \"c\" + str(i+1) + \"_map.hdf5\"\n",
    "    if os.path.exists(h5_name):\n",
    "        os.remove(h5_name)\n",
    "        \n",
    "    scmosAnalysis.analyze(\"c\" + str(i+1) + \"_map.dax\", h5_name, \"scmos.xml\")\n"
   ]
  },
  {
   "cell_type": "markdown",
   "metadata": {},
   "source": [
    "### Check analysis"
   ]
  },
  {
   "cell_type": "code",
   "execution_count": null,
   "metadata": {},
   "outputs": [],
   "source": [
    "import storm_analysis.jupyter_examples.overlay_image as overlay_image\n",
    "\n",
    "for i in range(n_planes):\n",
    "    \n",
    "    h5_name = \"c\" + str(i+1) + \"_map.hdf5\"\n",
    "    print(h5_name)\n",
    "    overlay_image.overlayImage(\"c\" + str(i+1) + \"_map.dax\", h5_name, 0)"
   ]
  },
  {
   "cell_type": "markdown",
   "metadata": {},
   "source": [
    "### Determine mappings.\n",
    "\n",
    "Here we determine the mapping between each channel and channel 0."
   ]
  },
  {
   "cell_type": "code",
   "execution_count": null,
   "metadata": {},
   "outputs": [],
   "source": [
    "import storm_analysis.micrometry.micrometry as micrometry\n",
    "\n",
    "for i in range(1, n_planes):    \n",
    "    locs1 = \"c1_map.hdf5\"\n",
    "    locs2 = \"c\" + str(i+1) + \"_map.hdf5\"\n",
    "    results = \"c1_c\" + str(i+1) + \"_map.map\"\n",
    "    micrometry.runMicrometry(locs1, \n",
    "                             locs2, \n",
    "                             results, \n",
    "                             min_size = 5.0, \n",
    "                             max_size = 100.0, \n",
    "                             max_neighbors = 20, \n",
    "                             tolerance = 1.0e-2, \n",
    "                             no_plots = False)"
   ]
  },
  {
   "cell_type": "markdown",
   "metadata": {},
   "source": [
    "### Check individual mappings"
   ]
  },
  {
   "cell_type": "code",
   "execution_count": null,
   "metadata": {},
   "outputs": [],
   "source": [
    "import pickle\n",
    "\n",
    "# Print the mappings.\n",
    "for i in range(1, n_planes):\n",
    "    \n",
    "    results = \"c1_c\" + str(i+1) + \"_map.map\"\n",
    "    with open(results, \"rb\") as fp:\n",
    "        a_map = pickle.load(fp)\n",
    "\n",
    "    print(results)\n",
    "    for elt in sorted(a_map):\n",
    "        print(elt, a_map[elt])\n",
    "    print()\n"
   ]
  },
  {
   "cell_type": "markdown",
   "metadata": {},
   "source": [
    "### Merge mappings\n",
    "\n",
    "Note: This step is only necessary if you have more than two channels."
   ]
  },
  {
   "cell_type": "code",
   "execution_count": null,
   "metadata": {},
   "outputs": [],
   "source": [
    "import storm_analysis.micrometry.merge_maps as mergeMaps\n",
    "\n",
    "# Create list of map files to merge.\n",
    "to_merge = []\n",
    "for i in range(1, n_planes):    \n",
    "    to_merge.append(\"c1_c\" + str(i+1) + \"_map.map\")\n",
    "    \n",
    "m_map = None\n",
    "if (len(to_merge) > 1):\n",
    "    # Merge.\n",
    "    m_map = mergeMaps.mergeMaps(to_merge)\n",
    "\n",
    "    for elt in sorted(m_map):\n",
    "        print(elt, m_map[elt])\n",
    "    print()\n",
    "\n",
    "    # Save results for multiplane.\n",
    "    with open(\"map.map\", 'wb') as fp:\n",
    "        pickle.dump(m_map, fp)\n",
    "        \n",
    "else:\n",
    "    print(\"Merge not necessary\")"
   ]
  },
  {
   "cell_type": "markdown",
   "metadata": {},
   "source": [
    "We can also check the results against our original mapping."
   ]
  },
  {
   "cell_type": "code",
   "execution_count": null,
   "metadata": {},
   "outputs": [],
   "source": [
    "if m_map is not None:\n",
    "    is_good = True\n",
    "    for elt in sorted(m_map):\n",
    "        if not numpy.allclose(m_map[elt], mappings[elt], atol = 1.0e-1, rtol = 1.0-1):\n",
    "            print(\"map error detected for:\")\n",
    "            print(elt, m_map[elt], mappings[elt])\n",
    "            print()\n",
    "            is_good = False\n",
    "    if is_good:\n",
    "        print(\"No differences detected.\")"
   ]
  },
  {
   "cell_type": "code",
   "execution_count": null,
   "metadata": {},
   "outputs": [],
   "source": []
  }
 ],
 "metadata": {
  "kernelspec": {
   "display_name": "Python 3",
   "language": "python",
   "name": "python3"
  },
  "language_info": {
   "codemirror_mode": {
    "name": "ipython",
    "version": 3
   },
   "file_extension": ".py",
   "mimetype": "text/x-python",
   "name": "python",
   "nbconvert_exporter": "python",
   "pygments_lexer": "ipython3",
   "version": "3.6.7"
  }
 },
 "nbformat": 4,
 "nbformat_minor": 2
}

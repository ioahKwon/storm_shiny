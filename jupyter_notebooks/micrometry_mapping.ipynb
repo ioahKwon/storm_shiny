{
 "cells": [
  {
   "cell_type": "markdown",
   "metadata": {},
   "source": [
    "## Using Micrometry to identify the affine transform between two cameras.\n",
    "\n",
    "In this example we are trying to determine the coefficients $A,B,C,D,E,F$ in this equation:\n",
    "\n",
    "\\begin{equation*}\n",
    "\\begin{bmatrix}\n",
    "x_{f}\\\\\n",
    "y_{f}\n",
    "\\end{bmatrix}\n",
    "=\n",
    "\\begin{bmatrix}\n",
    "A & B & C\\\\\n",
    "D & E & F\n",
    "\\end{bmatrix}\n",
    "\\times\n",
    "\\begin{bmatrix}\n",
    "1\\\\\n",
    "x_{i}\\\\\n",
    "y_{i}\\\\\n",
    "\\end{bmatrix}\n",
    "\\end{equation*}\n",
    "\n",
    "This is a simple first order transformation. It is accurate enough for multiplane SMLM analysis with `storm_analysis.multi_plane.multi_plane` and `storm_analysis.multi_plane.multi_plane_dao`. If greater precision is desired it should provide a good starting point for identifying higher order transformations.\n",
    "\n",
    "The coefficient determination could fail for images with large differences in field curvature.\n",
    "\n",
    "Micrometry uses the geometric hashing approach described in [Lang et al, The Astronomical Journal, 2010](http://dx.doi.org/10.1088/0004-6256/139/5/1782) to determine the affine transform.\n"
   ]
  },
  {
   "cell_type": "markdown",
   "metadata": {},
   "source": [
    "### Configuration\n",
    "\n",
    "The typical starting point is movies of fluorescent beads taken with the two different cameras at the same time. A single (in focus) frame from each camera is then analyzed with `3D-DAOSTORM` or `sCMOS` to identify the bead locations.\n",
    "\n",
    "In this example we're just going to generate the localizations files.\n"
   ]
  },
  {
   "cell_type": "code",
   "execution_count": null,
   "metadata": {},
   "outputs": [],
   "source": [
    "import matplotlib\n",
    "import matplotlib.pyplot as pyplot\n",
    "import numpy\n",
    "import os\n",
    "\n",
    "import storm_analysis.sa_library.sa_h5py as saH5Py\n",
    "import storm_analysis.micrometry.micrometry as micrometry\n",
    "\n",
    "import os\n",
    "\n",
    "# Change to working directory.\n",
    "os.chdir(\"/home/hbabcock/Data/storm_analysis/jy_testing/\")\n",
    "print(os.getcwd())"
   ]
  },
  {
   "cell_type": "markdown",
   "metadata": {},
   "source": [
    "### Identity transform"
   ]
  },
  {
   "cell_type": "code",
   "execution_count": null,
   "metadata": {},
   "outputs": [],
   "source": [
    "# Create the test data.\n",
    "\n",
    "im_size = 512\n",
    "n_points = 50\n",
    "\n",
    "numpy.random.seed(0)\n",
    "\n",
    "locs = {\"x\" : numpy.random.uniform(high = im_size, size = n_points),\n",
    "        \"y\" : numpy.random.uniform(high = im_size, size = n_points)}\n",
    "\n",
    "#\n",
    "# Note that micrometry needs to know the size of the field of view in pixels\n",
    "# in order to work properly.\n",
    "#\n",
    "with saH5Py.SAH5Py(\"locs1.hdf5\", is_existing = False, overwrite = True) as h5:\n",
    "    h5.setMovieInformation(im_size, im_size, 1, \"\")\n",
    "    h5.addLocalizations(locs, 0)\n",
    "    \n",
    "with saH5Py.SAH5Py(\"locs2.hdf5\", is_existing = False, overwrite = True) as h5:\n",
    "    h5.setMovieInformation(im_size, im_size, 1, \"\")\n",
    "    h5.addLocalizations(locs, 0)"
   ]
  },
  {
   "cell_type": "markdown",
   "metadata": {},
   "source": [
    "**A note on the parameters:**\n",
    "\n",
    "* `min_size` - The minimum distance in pixels between two localizations to be considered for quad formation. You probably won't need to change this.\n",
    "* `max_size` - The maximum distance in pixels between two localizations to be considered for quad formation. You may need to change this depending on localization sparsity.\n",
    "* `max_neighbors` - The number of nearest neighbors to consider for quad formation. You might also need to change this.\n",
    "\n",
    "Basically what micrometry is going to do is to build a list of quads (a quad is a group of 4 localizations) for the two data-sets, then compare the quads against each other. Increasing `max_size` and `max_neighbors` will increase the number of quads that are found and compared. However since the comparison scales as $N^2$ you are trying to balance having enough quads to find a match against having so many that it takes forever to compare them all."
   ]
  },
  {
   "cell_type": "code",
   "execution_count": null,
   "metadata": {},
   "outputs": [],
   "source": [
    "# Find the transform\n",
    "mm = micrometry.Micrometry(\"locs1.hdf5\",\n",
    "                           min_size = 5.0,\n",
    "                           max_size = 100.0,\n",
    "                           max_neighbors = 20)\n",
    "\n",
    "# 1.0e-2 is a relative unit used when comparing quads.\n",
    "#\n",
    "[best_ratio, best_transform] = mm.findTransform(\"locs2.hdf5\", 1.0e-2)\n"
   ]
  },
  {
   "cell_type": "markdown",
   "metadata": {},
   "source": [
    "Note : `best_ratio` is a metric for how much better the match is than random chance. A value above ~10.0 indicates that the match is very likely not random. The scale is logarithmic so 12.0 is much better than 10.0."
   ]
  },
  {
   "cell_type": "code",
   "execution_count": null,
   "metadata": {},
   "outputs": [],
   "source": [
    "# Print the ratio and plot the best match.\n",
    "\n",
    "print(\"Best ratio: {0:.1f}\".format(best_ratio))\n",
    "print(\"Best transform:\")\n",
    "print()\n",
    "micrometry.prettyPrintTransform(best_transform)\n",
    "\n",
    "# Change default figure size.\n",
    "matplotlib.rcParams['figure.figsize'] = (8,6)\n",
    "\n",
    "micrometry.plotMatch(mm.getRefKDTree(),\n",
    "                     mm.getOtherKDTree(),\n",
    "                     best_transform)\n"
   ]
  },
  {
   "cell_type": "markdown",
   "metadata": {},
   "source": [
    "### Non-identity transform"
   ]
  },
  {
   "cell_type": "code",
   "execution_count": null,
   "metadata": {},
   "outputs": [],
   "source": [
    "locs2 = {\"x\" : numpy.zeros(n_points),\n",
    "         \"y\" : numpy.zeros(n_points)}\n",
    "\n",
    "tt = [numpy.array([-1.0, -0.9, 0.1]), \n",
    "      numpy.array([2.0, 0.2, 0.9])]\n",
    "\n",
    "for i in range(n_points):\n",
    "    locs2[\"x\"][i] = tt[0][0] + tt[0][1] * locs[\"x\"][i] + tt[0][2] * locs[\"y\"][i]\n",
    "    locs2[\"y\"][i] = tt[1][0] + tt[1][1] * locs[\"x\"][i] + tt[1][2] * locs[\"y\"][i]\n",
    "\n",
    "with saH5Py.SAH5Py(\"locs3.hdf5\", is_existing = False, overwrite = True) as h5:\n",
    "    h5.setMovieInformation(im_size, im_size, 1, \"\")\n",
    "    h5.addLocalizations(locs2, 0)"
   ]
  },
  {
   "cell_type": "code",
   "execution_count": null,
   "metadata": {},
   "outputs": [],
   "source": [
    "# Plot localizations\n",
    "\n",
    "fig = pyplot.figure(figsize = (10,5))\n",
    "ax1 = fig.add_subplot(1,2,1)\n",
    "ax1.scatter(locs[\"x\"], locs[\"y\"], s = 8)\n",
    "\n",
    "ax2 = fig.add_subplot(1,2,2)\n",
    "ax2.scatter(locs2[\"x\"], locs2[\"y\"], s = 8)\n",
    "\n",
    "pyplot.show()\n"
   ]
  },
  {
   "cell_type": "code",
   "execution_count": null,
   "metadata": {},
   "outputs": [],
   "source": [
    "# Find the transform\n",
    "#\n",
    "# Note that we increased max_size a little here in order to find the transform.\n",
    "#\n",
    "mm = micrometry.Micrometry(\"locs1.hdf5\",\n",
    "                           min_size = 5.0,\n",
    "                           max_size = 150.0,\n",
    "                           max_neighbors = 20)\n",
    "\n",
    "[best_ratio, best_transform] = mm.findTransform(\"locs3.hdf5\", 1.0e-2)"
   ]
  },
  {
   "cell_type": "code",
   "execution_count": null,
   "metadata": {},
   "outputs": [],
   "source": [
    "# Print the ratio and plot the best match.\n",
    "\n",
    "print(\"Best ratio: {0:.1f}\".format(best_ratio))\n",
    "print(\"Best transform:\")\n",
    "print()\n",
    "micrometry.prettyPrintTransform(best_transform)\n",
    "\n",
    "micrometry.plotMatch(mm.getRefKDTree(),\n",
    "                     mm.getOtherKDTree(),\n",
    "                     best_transform)"
   ]
  },
  {
   "cell_type": "markdown",
   "metadata": {},
   "source": [
    "### Add some noise localizations"
   ]
  },
  {
   "cell_type": "code",
   "execution_count": null,
   "metadata": {},
   "outputs": [],
   "source": [
    "n_random = 10\n",
    "\n",
    "locs4 = {\"x\" : numpy.concatenate((locs[\"x\"], numpy.random.uniform(high = im_size, size = n_random))),\n",
    "         \"y\" : numpy.concatenate((locs[\"y\"], numpy.random.uniform(high = im_size, size = n_random)))}\n",
    "\n",
    "locs5 = {\"x\" : numpy.concatenate((locs[\"x\"], numpy.random.uniform(high = im_size, size = n_random))),\n",
    "         \"y\" : numpy.concatenate((locs[\"y\"], numpy.random.uniform(high = im_size, size = n_random)))}\n",
    "\n",
    "tt = [numpy.array([-1.0, -0.9, 0.1]), \n",
    "      numpy.array([2.0, 0.2, 0.9])]\n",
    "\n",
    "for i in range(n_points + n_random):\n",
    "    x = locs5[\"x\"][i]\n",
    "    y = locs5[\"y\"][i]\n",
    "    locs5[\"x\"][i] = tt[0][0] + tt[0][1] * x + tt[0][2] * y\n",
    "    locs5[\"y\"][i] = tt[1][0] + tt[1][1] * x + tt[1][2] * y\n",
    "    \n",
    "with saH5Py.SAH5Py(\"locs4.hdf5\", is_existing = False, overwrite = True) as h5:\n",
    "    h5.setMovieInformation(im_size, im_size, 1, \"\")\n",
    "    h5.addLocalizations(locs4, 0)\n",
    "    \n",
    "with saH5Py.SAH5Py(\"locs5.hdf5\", is_existing = False, overwrite = True) as h5:\n",
    "    h5.setMovieInformation(im_size, im_size, 1, \"\")\n",
    "    h5.addLocalizations(locs5, 0)\n",
    "    "
   ]
  },
  {
   "cell_type": "code",
   "execution_count": null,
   "metadata": {},
   "outputs": [],
   "source": [
    "# Find the transform\n",
    "mm = micrometry.Micrometry(\"locs4.hdf5\",\n",
    "                           min_size = 5.0,\n",
    "                           max_size = 150.0,\n",
    "                           max_neighbors = 20)\n",
    "\n",
    "[best_ratio, best_transform] = mm.findTransform(\"locs5.hdf5\", 1.0e-2)\n"
   ]
  },
  {
   "cell_type": "code",
   "execution_count": null,
   "metadata": {},
   "outputs": [],
   "source": [
    "# Print the ratio and plot the best match.\n",
    "\n",
    "print(\"Best ratio: {0:.1f}\".format(best_ratio))\n",
    "print(\"Best transform:\")\n",
    "print()\n",
    "micrometry.prettyPrintTransform(best_transform)\n",
    "\n",
    "micrometry.plotMatch(mm.getRefKDTree(),\n",
    "                     mm.getOtherKDTree(),\n",
    "                     best_transform)\n"
   ]
  },
  {
   "cell_type": "markdown",
   "metadata": {},
   "source": [
    "Micrometry can find the correct transform even when most of the localizations are noise, but it can take a while as it will need more quads to compare."
   ]
  },
  {
   "cell_type": "markdown",
   "metadata": {},
   "source": [
    "### Localizations that don't match"
   ]
  },
  {
   "cell_type": "code",
   "execution_count": null,
   "metadata": {},
   "outputs": [],
   "source": [
    "numpy.random.seed(3)\n",
    "\n",
    "locs6 = {\"x\" : numpy.random.uniform(high = im_size, size = n_points),\n",
    "         \"y\" : numpy.random.uniform(high = im_size, size = n_points)}\n",
    "\n",
    "with saH5Py.SAH5Py(\"locs6.hdf5\", is_existing = False, overwrite = True) as h5:\n",
    "    h5.setMovieInformation(im_size, im_size, 1, \"\")\n",
    "    h5.addLocalizations(locs6, 0)\n",
    "\n",
    "locs7 = {\"x\" : numpy.random.uniform(high = im_size, size = n_points),\n",
    "         \"y\" : numpy.random.uniform(high = im_size, size = n_points)}\n",
    "\n",
    "with saH5Py.SAH5Py(\"locs7.hdf5\", is_existing = False, overwrite = True) as h5:\n",
    "    h5.setMovieInformation(im_size, im_size, 1, \"\")\n",
    "    h5.addLocalizations(locs7, 0)\n",
    "    "
   ]
  },
  {
   "cell_type": "code",
   "execution_count": null,
   "metadata": {},
   "outputs": [],
   "source": [
    "# Find the transform\n",
    "mm = micrometry.Micrometry(\"locs6.hdf5\",\n",
    "                           min_size = 5.0,\n",
    "                           max_size = 200.0,\n",
    "                           max_neighbors = 20)\n",
    "\n",
    "[best_ratio, best_transform] = mm.findTransform(\"locs7.hdf5\", 1.0e-2)"
   ]
  },
  {
   "cell_type": "code",
   "execution_count": null,
   "metadata": {},
   "outputs": [],
   "source": [
    "# Print the ratio and plot the best match.\n",
    "\n",
    "print(\"Best ratio: {0:.2f}\".format(best_ratio))\n",
    "print(\"Best transform:\")\n",
    "print()\n",
    "micrometry.prettyPrintTransform(best_transform)\n",
    "\n",
    "micrometry.plotMatch(mm.getRefKDTree(),\n",
    "                     mm.getOtherKDTree(),\n",
    "                     best_transform)"
   ]
  },
  {
   "cell_type": "code",
   "execution_count": null,
   "metadata": {},
   "outputs": [],
   "source": []
  }
 ],
 "metadata": {
  "kernelspec": {
   "display_name": "Python 3",
   "language": "python",
   "name": "python3"
  },
  "language_info": {
   "codemirror_mode": {
    "name": "ipython",
    "version": 3
   },
   "file_extension": ".py",
   "mimetype": "text/x-python",
   "name": "python",
   "nbconvert_exporter": "python",
   "pygments_lexer": "ipython3",
   "version": "3.6.7"
  }
 },
 "nbformat": 4,
 "nbformat_minor": 2
}

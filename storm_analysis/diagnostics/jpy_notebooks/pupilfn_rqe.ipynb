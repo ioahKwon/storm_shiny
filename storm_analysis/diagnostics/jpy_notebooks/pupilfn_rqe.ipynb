{
 "cells": [
  {
   "cell_type": "markdown",
   "metadata": {},
   "source": [
    "## Diagnostics for Pupil Function with RQE correction"
   ]
  },
  {
   "cell_type": "markdown",
   "metadata": {},
   "source": [
    "### Configure environment"
   ]
  },
  {
   "cell_type": "code",
   "execution_count": null,
   "metadata": {},
   "outputs": [],
   "source": [
    "import os\n",
    "os.chdir(\"/home/hbabcock/Data/storm_analysis/sa_diagnostics/pupilfn_rqe\")\n",
    "print(os.getcwd())\n",
    "\n",
    "import numpy\n",
    "numpy.random.seed(1)"
   ]
  },
  {
   "cell_type": "code",
   "execution_count": null,
   "metadata": {},
   "outputs": [],
   "source": [
    "import storm_analysis.diagnostics.pupilfn.settings as settings\n",
    "import storm_analysis.diagnostics.pupilfn.configure as configure\n",
    "import storm_analysis.diagnostics.pupilfn.make_data as makeData\n",
    "import storm_analysis.diagnostics.pupilfn.analyze_data as analyzeData\n",
    "\n",
    "import storm_analysis.diagnostics.sCMOS.collate as collate\n"
   ]
  },
  {
   "cell_type": "code",
   "execution_count": null,
   "metadata": {},
   "outputs": [],
   "source": [
    "settings.photons = [[20, 290]]\n",
    "\n",
    "settings.iterations = 20\n",
    "settings.n_frames = 20\n",
    "settings.peak_locations = None\n",
    "settings.test_z_range = 0.0\n",
    "settings.threshold = 8.0\n",
    "\n",
    "rqe_correction_test = True"
   ]
  },
  {
   "cell_type": "code",
   "execution_count": null,
   "metadata": {},
   "outputs": [],
   "source": [
    "# sCMOS calibration files.\n",
    "period = 19\n",
    "rqe_term = 0.92\n",
    "\n",
    "offset = numpy.zeros((settings.y_size, settings.x_size)) + settings.camera_offset\n",
    "variance = numpy.ones((settings.y_size, settings.x_size)) * settings.camera_variance\n",
    "\n",
    "\n",
    "rqe = numpy.ones((settings.y_size, settings.x_size))\n",
    "t1 = (1.0 + (1 - rqe_term)*numpy.sin(2.0*numpy.pi*numpy.arange(rqe.shape[1])/period))\n",
    "\n",
    "for i in range(rqe.shape[0]):\n",
    "    rqe[i,:] = rqe[i,:] * t1\n",
    "\n",
    "gain = 2.0*numpy.ones((settings.y_size, settings.x_size))/rqe\n",
    "\n",
    "cal_file = \"calib.npy\"\n",
    "numpy.save(cal_file, [offset, variance, gain, rqe, 2])"
   ]
  },
  {
   "cell_type": "markdown",
   "metadata": {},
   "source": [
    "### Configure"
   ]
  },
  {
   "cell_type": "code",
   "execution_count": null,
   "metadata": {},
   "outputs": [],
   "source": [
    "configure.configure(cal_file = cal_file)"
   ]
  },
  {
   "cell_type": "markdown",
   "metadata": {},
   "source": [
    "### Make Data"
   ]
  },
  {
   "cell_type": "code",
   "execution_count": null,
   "metadata": {},
   "outputs": [],
   "source": [
    "makeData.makeDataRQE(cal_file = cal_file)"
   ]
  },
  {
   "cell_type": "markdown",
   "metadata": {},
   "source": [
    "### Analyze data"
   ]
  },
  {
   "cell_type": "code",
   "execution_count": null,
   "metadata": {},
   "outputs": [],
   "source": [
    "# Use constant RQE in calibration file.\n",
    "if not rqe_correction_test:\n",
    "    rqe = numpy.ones((settings.y_size, settings.x_size))\n",
    "\n",
    "    numpy.save(cal_file, [offset, variance, gain, rqe, 2])"
   ]
  },
  {
   "cell_type": "code",
   "execution_count": null,
   "metadata": {},
   "outputs": [],
   "source": [
    "%time analyzeData.analyzeData()"
   ]
  },
  {
   "cell_type": "markdown",
   "metadata": {},
   "source": [
    "### Collate data"
   ]
  },
  {
   "cell_type": "code",
   "execution_count": null,
   "metadata": {},
   "outputs": [],
   "source": [
    "collate.collateRQE()"
   ]
  },
  {
   "cell_type": "markdown",
   "metadata": {},
   "source": [
    "### Reference results"
   ]
  },
  {
   "cell_type": "raw",
   "metadata": {},
   "source": [
    "2019-06-21\n",
    "commit 0981d21ad83d9b5a591d321f6179a1621f880caa\n",
    "\n",
    "Processing test_01\n",
    "  Mean P found     : 0.557\n",
    "  Expected variance: 4.936\n",
    "  Actual variance  : 5.498"
   ]
  }
 ],
 "metadata": {
  "kernelspec": {
   "display_name": "Python 3",
   "language": "python",
   "name": "python3"
  },
  "language_info": {
   "codemirror_mode": {
    "name": "ipython",
    "version": 3
   },
   "file_extension": ".py",
   "mimetype": "text/x-python",
   "name": "python",
   "nbconvert_exporter": "python",
   "pygments_lexer": "ipython3",
   "version": "3.6.8"
  }
 },
 "nbformat": 4,
 "nbformat_minor": 2
}

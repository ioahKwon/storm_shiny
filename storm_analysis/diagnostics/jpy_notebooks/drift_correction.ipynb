{
 "cells": [
  {
   "cell_type": "markdown",
   "metadata": {},
   "source": [
    "## Diagnostics for drift correction"
   ]
  },
  {
   "cell_type": "markdown",
   "metadata": {},
   "source": [
    "### Configure environment"
   ]
  },
  {
   "cell_type": "code",
   "execution_count": null,
   "metadata": {},
   "outputs": [],
   "source": [
    "import os\n",
    "os.chdir(\"/home/hbabcock/Data/storm_analysis/sa_diagnostics/drift_correction\")\n",
    "print(os.getcwd())\n",
    "\n",
    "import numpy\n",
    "numpy.random.seed(1)"
   ]
  },
  {
   "cell_type": "code",
   "execution_count": null,
   "metadata": {},
   "outputs": [],
   "source": [
    "import storm_analysis.diagnostics.drift_correction.settings as settings\n",
    "import storm_analysis.diagnostics.drift_correction.configure as configure\n",
    "import storm_analysis.diagnostics.drift_correction.make_data as makeData\n",
    "import storm_analysis.diagnostics.drift_correction.analyze_data as analyzeData\n",
    "import storm_analysis.diagnostics.drift_correction.collate as collate\n"
   ]
  },
  {
   "cell_type": "markdown",
   "metadata": {},
   "source": [
    "### Configure"
   ]
  },
  {
   "cell_type": "code",
   "execution_count": null,
   "metadata": {},
   "outputs": [],
   "source": [
    "configure.configure()"
   ]
  },
  {
   "cell_type": "markdown",
   "metadata": {},
   "source": [
    "### Make Data"
   ]
  },
  {
   "cell_type": "code",
   "execution_count": null,
   "metadata": {},
   "outputs": [],
   "source": [
    "makeData.makeData()"
   ]
  },
  {
   "cell_type": "markdown",
   "metadata": {},
   "source": [
    "### Analyze data"
   ]
  },
  {
   "cell_type": "code",
   "execution_count": null,
   "metadata": {},
   "outputs": [],
   "source": [
    "%time analyzeData.analyzeData()"
   ]
  },
  {
   "cell_type": "markdown",
   "metadata": {},
   "source": [
    "### Reference results"
   ]
  },
  {
   "cell_type": "raw",
   "metadata": {},
   "source": [
    "...\n",
    "\n",
    "Analysis complete\n",
    "Analysis completed in 183.81 seconds.\n",
    "\n",
    "...\n",
    "\n",
    "Analysis complete\n",
    "Analysis completed in 179.50 seconds.\n",
    "\n",
    "2 directories analyzed in 363.31 seconds.\n",
    "CPU times: user 5min 52s, sys: 11.7 s, total: 6min 4s\n",
    "Wall time: 6min 3s"
   ]
  },
  {
   "cell_type": "markdown",
   "metadata": {},
   "source": [
    "### Collate data"
   ]
  },
  {
   "cell_type": "code",
   "execution_count": null,
   "metadata": {},
   "outputs": [],
   "source": [
    "collate.collate()"
   ]
  },
  {
   "cell_type": "markdown",
   "metadata": {},
   "source": [
    "### Reference results"
   ]
  },
  {
   "cell_type": "raw",
   "metadata": {},
   "source": [
    "2019-10-30\n",
    "commit 04f632fe13d41de0c14fad58c79e207f4ec54f47\n",
    "\n",
    "Drift correction RMS error (nanometers):\n",
    "  drift_xy.txt\n",
    "   X 1.247\n",
    "   Y 1.473\n",
    "   Z 0.570\n",
    "\n",
    "  drift_xyz.txt\n",
    "   X 1.452\n",
    "   Y 1.502\n",
    "   Z 1.834"
   ]
  }
 ],
 "metadata": {
  "kernelspec": {
   "display_name": "Python 3",
   "language": "python",
   "name": "python3"
  },
  "language_info": {
   "codemirror_mode": {
    "name": "ipython",
    "version": 3
   },
   "file_extension": ".py",
   "mimetype": "text/x-python",
   "name": "python",
   "nbconvert_exporter": "python",
   "pygments_lexer": "ipython3",
   "version": "3.6.8"
  }
 },
 "nbformat": 4,
 "nbformat_minor": 2
}

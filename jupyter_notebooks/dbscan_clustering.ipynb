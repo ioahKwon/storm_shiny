{
 "cells": [
  {
   "cell_type": "markdown",
   "metadata": {},
   "source": [
    "## Using the DBSCAN algorithm to cluster localizations.\n",
    "\n",
    "This notebook demonstrates how to cluster localizations using the DBSCAN algorithm. It also demonstrates how to work with the clustered data.\n",
    "\n",
    "Note:\n",
    "* The algorithm works in 2D or 3D, but in this example we just do 2D clustering.\n",
    "\n",
    "References:\n",
    "* [DBSCAN (Wikipedia)](https://en.wikipedia.org/wiki/DBSCAN).\n",
    "* [Ester et al, Proceedings of the Second International Conference on Knowledge Discovery and Data Mining, 1996](http://citeseerx.ist.psu.edu/viewdoc/summary?doi=10.1.1.121.9220)."
   ]
  },
  {
   "cell_type": "markdown",
   "metadata": {},
   "source": [
    "### Configuration\n",
    "\n",
    "Create an empty directory somewhere on your computer and tell Python to go to that directory."
   ]
  },
  {
   "cell_type": "code",
   "execution_count": null,
   "metadata": {},
   "outputs": [],
   "source": [
    "import matplotlib\n",
    "import matplotlib.pyplot as pyplot\n",
    "import numpy\n",
    "import os\n",
    "\n",
    "os.chdir(\"/home/hbabcock/Data/storm_analysis/jy_testing/\")\n",
    "print(os.getcwd())\n",
    "\n",
    "numpy.random.seed(1)\n"
   ]
  },
  {
   "cell_type": "markdown",
   "metadata": {},
   "source": [
    "### Generate data to cluster\n",
    "\n",
    "In this example we are just going to generate the clustering data synthetically."
   ]
  },
  {
   "cell_type": "code",
   "execution_count": null,
   "metadata": {},
   "outputs": [],
   "source": [
    "import storm_analysis.jupyter_examples.clustering_data as clusteringData\n",
    "\n",
    "clusteringData.makeClusters(\"clusters.hdf5\", 40, 1000, 20000)"
   ]
  },
  {
   "cell_type": "code",
   "execution_count": null,
   "metadata": {},
   "outputs": [],
   "source": [
    "# Make an image from the data.\n",
    "import storm_analysis.sa_utilities.hdf5_to_image as h5_image\n",
    "\n",
    "sr_im = h5_image.render2DImage(\"clusters.hdf5\", scale = 2, sigma = 1)\n",
    "\n",
    "fig = pyplot.figure(figsize = (9, 6))\n",
    "pyplot.imshow(sr_im, cmap = \"gray\")\n",
    "pyplot.show()"
   ]
  },
  {
   "cell_type": "markdown",
   "metadata": {},
   "source": [
    "### Cluster the data\n",
    "\n",
    "Note:\n",
    "* The results of the clustering are saved in the HDF5 that contained the tracks / localizations.\n",
    "* Clustering is done on tracks if they are available, otherwise it is done on the localizations."
   ]
  },
  {
   "cell_type": "code",
   "execution_count": null,
   "metadata": {},
   "outputs": [],
   "source": [
    "import storm_analysis.dbscan.dbscan_analysis as dbscanAnalysis\n",
    "\n",
    "# The second parameter is the DBSCAN eps value in nanometers.\n",
    "# The third parameter is the DBSCAN mc value.\n",
    "dbscanAnalysis.findClusters(\"clusters.hdf5\", 100.0, 50)"
   ]
  },
  {
   "cell_type": "markdown",
   "metadata": {},
   "source": [
    "### RGB image of the clustering results"
   ]
  },
  {
   "cell_type": "code",
   "execution_count": null,
   "metadata": {},
   "outputs": [],
   "source": [
    "import storm_analysis.dbscan.cluster_images as clusterImages\n",
    "\n",
    "[rgb_im, sum_im, num_clusters] = clusterImages.clusterImages(\"clusters.hdf5\", 10, 3, scale = 2, \n",
    "                                                             show_unclustered = True)\n",
    "\n",
    "\n",
    "fig = pyplot.figure(figsize = (9, 6))\n",
    "pyplot.imshow(rgb_im, cmap = \"gray\")\n",
    "pyplot.show()\n"
   ]
  },
  {
   "cell_type": "markdown",
   "metadata": {},
   "source": [
    "### Create a file with some statistics for each cluster"
   ]
  },
  {
   "cell_type": "code",
   "execution_count": null,
   "metadata": {},
   "outputs": [],
   "source": [
    "stats_name = dbscanAnalysis.clusterStats(\"clusters.hdf5\", 10)\n",
    "\n",
    "print()\n",
    "print(\"Cluster statistics:\")\n",
    "with open(stats_name) as fp:\n",
    "    for line in fp:\n",
    "        print(line.strip())"
   ]
  },
  {
   "cell_type": "markdown",
   "metadata": {},
   "source": [
    "### Working with HDF5 clusters files"
   ]
  },
  {
   "cell_type": "code",
   "execution_count": null,
   "metadata": {},
   "outputs": [],
   "source": [
    "import storm_analysis.dbscan.clusters_sa_h5py as clSAH5Py\n",
    "\n",
    "# The SAH5Clusters object is a sub-class of the SAH5Py object, so it provides all\n",
    "# the methods of SAH5Py object in addition to a few of it's own.\n",
    "#\n",
    "with clSAH5Py.SAH5Clusters(\"clusters.hdf5\") as cl_h5:\n",
    "    \n",
    "    # Get clustering program information.\n",
    "    print(\"Analysis info\", cl_h5.getClusteringInfo())\n",
    "    \n",
    "    # Get the number of clusters.\n",
    "    print(\"Total clusters\", cl_h5.getNClusters())\n",
    "    \n",
    "    # This is the recommended way to iterate over all the clusters. Like the tracks\n",
    "    # and localizations iterators you can specify which fields you want if you don't\n",
    "    # want to get them all.\n",
    "    #\n",
    "    print()\n",
    "    for index, cluster in cl_h5.clustersIterator(min_size = 100):\n",
    "        print(\"cluster {0:0d} <x> = {1:.3f}\".format(index, numpy.mean(cluster['x'])))\n",
    "        if (index >= 5):\n",
    "            break\n",
    "            \n",
    "    # Note that if you only need the fields that are stored with each cluster this\n",
    "    # iteration can be much faster. This is because the other fields have to be \n",
    "    # looked up from each localization/track that is in the cluster.\n",
    "    \n",
    "    # These are the fields that are stored with each cluster.\n",
    "    print()\n",
    "    print(\"Cluster fields:\", cl_h5.getClustersFields())\n",
    "    \n",
    "    # This should be noticeably faster. As 'x' is available in the cluster so we\n",
    "    # don't have to go the through the tracks to get it.\n",
    "    print()\n",
    "    for index, cluster in cl_h5.clustersIterator(min_size = 100, fields = ['x']):\n",
    "        print(\"cluster {0:0d} <x> = {1:.3f}\".format(index, numpy.mean(cluster['x'])))\n",
    "        if (index >= 5):\n",
    "            break"
   ]
  },
  {
   "cell_type": "code",
   "execution_count": null,
   "metadata": {},
   "outputs": [],
   "source": []
  }
 ],
 "metadata": {
  "kernelspec": {
   "display_name": "Python 3",
   "language": "python",
   "name": "python3"
  },
  "language_info": {
   "codemirror_mode": {
    "name": "ipython",
    "version": 3
   },
   "file_extension": ".py",
   "mimetype": "text/x-python",
   "name": "python",
   "nbconvert_exporter": "python",
   "pygments_lexer": "ipython3",
   "version": "3.6.7"
  }
 },
 "nbformat": 4,
 "nbformat_minor": 2
}

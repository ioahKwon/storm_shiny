{
 "cells": [
  {
   "cell_type": "markdown",
   "metadata": {},
   "source": [
    "## Measuring PSFs for Multiplane Analysis\n",
    "\n",
    "In this example we'll measure microscope PSFs for multiplane analysis (biplane in the example)."
   ]
  },
  {
   "cell_type": "markdown",
   "metadata": {},
   "source": [
    "### Configuration\n",
    "\n",
    "As with Spliner, to measure the PSF you'll need a movie of sparse fluorescent beads being scanned through the microscope focus. We typically do this with small fluorescent beads on the order of 0.1um in diameter. The beads are fixed to the coverslip using a buffer with 100mM MgCl2. The coverslip is scanned through the focus in 10nm steps using a piezo z scanner. We assume that the drift in XYZ is neglible during the time it takes to take these movies (10s of seconds).\n",
    "\n",
    "In this example we're just going to simulate this using a distortion free theoritical PSF. "
   ]
  },
  {
   "cell_type": "code",
   "execution_count": null,
   "metadata": {},
   "outputs": [],
   "source": [
    "import os\n",
    "os.chdir(\"/home/hbabcock/Data/storm_analysis/jy_testing/\")\n",
    "print(os.getcwd())"
   ]
  },
  {
   "cell_type": "markdown",
   "metadata": {},
   "source": [
    "Generate the sample data for this example. \n",
    "\n",
    "Typically you will need sCMOS calibration files for your cameras as well a file containing the (first order) transform betweens the cameras.  \n",
    "The `scmos_cal` notebook discusses how to calibrate a camera.  \n",
    "The `micrometry_mapping` notebook discusses one approach to measuring the transform between different cameras.  "
   ]
  },
  {
   "cell_type": "code",
   "execution_count": null,
   "metadata": {},
   "outputs": [],
   "source": [
    "import storm_analysis.jupyter_examples.multiplane_measure_psf as multiplane_measure_psf\n",
    "\n",
    "# Make a fake CMOS calibration file.\n",
    "multiplane_measure_psf.makeCMOSCalibration()\n",
    "\n",
    "# Make a fake mapping file.\n",
    "multiplane_measure_psf.makeMapping()\n",
    "\n",
    "# Make a bead movie for each camera.\n",
    "multiplane_measure_psf.makeSampleData()"
   ]
  },
  {
   "cell_type": "markdown",
   "metadata": {},
   "source": [
    "### Identifying localizations to use in the PSF measurement.\n",
    "\n",
    "The first step is to identify the localizations to use for PSF measurement. This is done by first analyzing an in focus image in channel 0 (the reference channel) with sCMOS (or 3D-DAOSTORM). Then the `psfLocalizations()` function is used to select localizations that are isolated from each other and also inside all of the images from all of the cameras."
   ]
  },
  {
   "cell_type": "code",
   "execution_count": null,
   "metadata": {},
   "outputs": [],
   "source": [
    "# Identify localizations using sCMOS.\n",
    "\n",
    "# This will create an analysis XML file that we can use for sCMOS analysis.\n",
    "multiplane_measure_psf.sCMOSSingleFrameXML()\n",
    "\n",
    "# Remove stale results, if any.\n",
    "if os.path.exists(\"c1_zcal.hdf5\"):\n",
    "    os.remove(\"c1_zcal.hdf5\")\n",
    "    \n",
    "# Run sCMOS analysis.\n",
    "import storm_analysis.sCMOS.scmos_analysis as scmosAnalysis\n",
    "scmosAnalysis.analyze(\"c1_zcal.dax\", \"c1_zcal.hdf5\", \"scmos_single_plane.xml\")\n",
    "\n",
    "# Select good localizations in one of the analyzed frames (frame 100 in this example)\n",
    "# We specify a minimum localization separation of 28 pixels (2 x aoi_size).\n",
    "import storm_analysis.multi_plane.psf_localizations as psfLocalizations\n",
    "psfLocalizations.psfLocalizations(\"c1_zcal.hdf5\", \"map.map\", frame = 100, aoi_size = 14)"
   ]
  },
  {
   "cell_type": "code",
   "execution_count": null,
   "metadata": {},
   "outputs": [],
   "source": [
    "# Visual check of the selected localizations.\n",
    "print(\"Channel 1 (frame 100)\")\n",
    "multiplane_measure_psf.overlayImage(\"c1_zcal.dax\", \"c1_zcal_c1_psf.hdf5\", 100)\n",
    "\n",
    "print(\"Channel 2 (frame 50)\")\n",
    "multiplane_measure_psf.overlayImage(\"c2_zcal.dax\", \"c1_zcal_c2_psf.hdf5\", 50)"
   ]
  },
  {
   "cell_type": "markdown",
   "metadata": {},
   "source": [
    "### Measure Z stacks for each channel."
   ]
  },
  {
   "cell_type": "code",
   "execution_count": null,
   "metadata": {},
   "outputs": [],
   "source": [
    "import storm_analysis.multi_plane.psf_zstack as psfZStack\n",
    "\n",
    "psfZStack.psfZStack(\"c1_zcal.dax\", \"c1_zcal_c1_psf.hdf5\", \"c1_zstack\", scmos_cal = \"calib.npy\", aoi_size = 12)\n",
    "psfZStack.psfZStack(\"c2_zcal.dax\", \"c1_zcal_c2_psf.hdf5\", \"c2_zstack\", scmos_cal = \"calib.npy\", aoi_size = 12)\n"
   ]
  },
  {
   "cell_type": "markdown",
   "metadata": {},
   "source": [
    "Note: If you have linear drift in X/Y during PSF measurement you can correct for it at this stage using the `driftx` and `drifty` arguments to `psfZStack()`. One way to estimate the correct values to use is to analyze the entire calibration movie, then use `multi_plane.zstack_xydrift.xyDrift()`."
   ]
  },
  {
   "cell_type": "markdown",
   "metadata": {},
   "source": [
    "### Measure the PSFs for each channel.\n",
    "\n",
    "If you are doing multicolor analysis at the same time then you'll want to use `normalize = True`. In multicolor analysis each camera would also be detecting different light wavelengths.\n",
    "\n",
    "As with `Spliner` PSF measurement, you will need a text file containing the z-offset of each frame in the movie. This file contains two columns, the first is whether or not the data in this frame should be used (0 = No, 1 = Yes) and the second contains the z offset in microns. In this example this was automatically generated by the `makeSampleData()` function."
   ]
  },
  {
   "cell_type": "code",
   "execution_count": null,
   "metadata": {},
   "outputs": [],
   "source": [
    "# Load sample z_offsets.txt file. In this example every frame is valid.\n",
    "import numpy\n",
    "z_offsets = numpy.loadtxt(\"z_offset.txt\")\n",
    "\n",
    "print(z_offsets[:5,:])"
   ]
  },
  {
   "cell_type": "code",
   "execution_count": null,
   "metadata": {},
   "outputs": [],
   "source": [
    "# PSF measurement\n",
    "import storm_analysis.multi_plane.measure_psf as measurePSF\n",
    "\n",
    "print(\"{0:.3f} pixel size (nm)\".format(multiplane_measure_psf.pixel_size))\n",
    "print(\"{0:.3f} spline z range (um)\".format(multiplane_measure_psf.spline_z_range))\n",
    "print()\n",
    "\n",
    "measurePSF.measurePSF(\"c1_zstack.npy\", \n",
    "                      \"z_offset.txt\", \n",
    "                      \"c1_psf.psf\", \n",
    "                      pixel_size = multiplane_measure_psf.pixel_size * 1.0e-3, # Pixel size is in microns.\n",
    "                      refine = False, \n",
    "                      z_range = multiplane_measure_psf.spline_z_range, # Spline z range in microns. \n",
    "                      z_step = 0.050, \n",
    "                      normalize = False)\n",
    "\n",
    "print()\n",
    "measurePSF.measurePSF(\"c2_zstack.npy\", \n",
    "                      \"z_offset.txt\", \n",
    "                      \"c2_psf.psf\", \n",
    "                      pixel_size = multiplane_measure_psf.pixel_size * 1.0e-3, # Pixel size is in microns.\n",
    "                      refine = False, \n",
    "                      z_range = multiplane_measure_psf.spline_z_range, # Spline z range in microns. \n",
    "                      z_step = 0.050, \n",
    "                      normalize = False)"
   ]
  },
  {
   "cell_type": "markdown",
   "metadata": {},
   "source": [
    "### Visualize the measured PSFs"
   ]
  },
  {
   "cell_type": "code",
   "execution_count": null,
   "metadata": {},
   "outputs": [],
   "source": [
    "import storm_analysis.jupyter_examples.psf_images as psfImages\n",
    "\n",
    "psfImages.psfImages(\"c1_psf.psf\")\n",
    "psfImages.psfImages(\"c2_psf.psf\")\n"
   ]
  },
  {
   "cell_type": "markdown",
   "metadata": {},
   "source": [
    "The next step is to convert the measured PSFs to splines. This is discussed in the `multiplane_psfs_to_splines` notebook.\n",
    "\n",
    "You can also examine the PSFs with a tool like ImageJ. Tiff versions of the PSFs are also created, \"c1_psf.tif\" and \"c2_psf.tif\" in this example."
   ]
  },
  {
   "cell_type": "code",
   "execution_count": null,
   "metadata": {},
   "outputs": [],
   "source": []
  }
 ],
 "metadata": {
  "kernelspec": {
   "display_name": "Python 3",
   "language": "python",
   "name": "python3"
  },
  "language_info": {
   "codemirror_mode": {
    "name": "ipython",
    "version": 3
   },
   "file_extension": ".py",
   "mimetype": "text/x-python",
   "name": "python",
   "nbconvert_exporter": "python",
   "pygments_lexer": "ipython3",
   "version": "3.6.7"
  }
 },
 "nbformat": 4,
 "nbformat_minor": 2
}

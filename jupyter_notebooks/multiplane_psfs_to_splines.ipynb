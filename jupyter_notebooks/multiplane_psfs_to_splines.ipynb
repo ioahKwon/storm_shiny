{
 "cells": [
  {
   "cell_type": "markdown",
   "metadata": {},
   "source": [
    "## Multiplane PSFs to splines\n",
    "\n",
    "In this example we'll create cubic splines from measured PSFS. This example requires that the `multiplane_measure_psf` notebook was previously run in the same directory as it uses the results from that notebook."
   ]
  },
  {
   "cell_type": "markdown",
   "metadata": {},
   "source": [
    "### Configuration"
   ]
  },
  {
   "cell_type": "code",
   "execution_count": null,
   "metadata": {},
   "outputs": [],
   "source": [
    "import os\n",
    "os.chdir(\"/home/hbabcock/Data/storm_analysis/jy_testing/\")\n",
    "print(os.getcwd())\n",
    "\n",
    "if not os.path.exists(\"c1_psf.psf\"):\n",
    "    print(\"Please run the multiplane_measure_psf notebook first\")"
   ]
  },
  {
   "cell_type": "markdown",
   "metadata": {},
   "source": [
    "Create the multiplane analysis XML file that we'll need at the plane weighting step."
   ]
  },
  {
   "cell_type": "code",
   "execution_count": null,
   "metadata": {},
   "outputs": [],
   "source": [
    "import storm_analysis.jupyter_examples.multiplane_psfs_to_splines as multiplane_psfs_to_splines\n",
    "\n",
    "multiplane_psfs_to_splines.multiplaneXML()"
   ]
  },
  {
   "cell_type": "markdown",
   "metadata": {},
   "source": [
    "### PSF normalization\n",
    "\n",
    "The first step is to normalize the PSFs relative to each other. \n",
    "\n",
    "The idea is that the relative PSF heights as a function of Z provides information about the localizations Z position. In order for this to work correctly we need the PSFs to be normalized."
   ]
  },
  {
   "cell_type": "code",
   "execution_count": null,
   "metadata": {},
   "outputs": [],
   "source": [
    "import storm_analysis.multi_plane.normalize_psfs as normalizePSFs\n",
    "\n",
    "normalizePSFs.normalizePSFs([\"c1_psf.psf\", \"c2_psf.psf\"])"
   ]
  },
  {
   "cell_type": "markdown",
   "metadata": {},
   "source": [
    "### Check Z offset\n",
    "\n",
    "Make a plot of the PSFs heights versus Z for the purpose of visually checking that the z offset values are relatively well centered. If this turns out not to be the case then the z values \"z_offset.txt\" should be adjusted such that the PSFs are better centered.\n",
    "\n",
    "Ideally, at least for standard biplane imaging, the maximum values of the two PSFs should be approximately symmetric around Z = 0."
   ]
  },
  {
   "cell_type": "code",
   "execution_count": null,
   "metadata": {},
   "outputs": [],
   "source": [
    "import storm_analysis.multi_plane.check_plane_offsets as checkPlaneOffsets\n",
    "\n",
    "checkPlaneOffsets.checkPlaneOffsets([\"c1_psf_normed.psf\", \"c2_psf_normed.psf\"])\n"
   ]
  },
  {
   "cell_type": "markdown",
   "metadata": {},
   "source": [
    "### Use normalized measured PSFs to create cubic splines"
   ]
  },
  {
   "cell_type": "code",
   "execution_count": null,
   "metadata": {},
   "outputs": [],
   "source": [
    "import storm_analysis.spliner.psf_to_spline as psfToSpline\n",
    "\n",
    "# 10 is 1/2 the spline size in pixels. This is reasonable value for setups with a camera pixel size of 100nm.\n",
    "psfToSpline.psfToSpline(\"c1_psf_normed.psf\", \"c1_psf.spline\", 10)\n",
    "psfToSpline.psfToSpline(\"c2_psf_normed.psf\", \"c2_psf.spline\", 10)\n"
   ]
  },
  {
   "cell_type": "markdown",
   "metadata": {},
   "source": [
    "You can check the splines with a tool like ImageJ. Tiff versions of the splines are also created, \"c1_psf_sp.tif\" and \"c2_psf_sp.tif\" in this example."
   ]
  },
  {
   "cell_type": "markdown",
   "metadata": {},
   "source": [
    "### Creating the weights file\n",
    "\n",
    "Multiplane uses channel “information” weights in order to more optimally weight the contribution from each plane in the determination of a localizations parameters. The channels are weighted based on their Cramer-Rao bounds as a function of z.\n",
    "\n",
    "For this step you will need a reasonable estimate of the average background and intensity in the data you plan to analyze. The background is photo-electrons per plane. The signal is the expected average number of photo-electrons per localization summed over all the planes. If your camera does not have a gain of 1.0 you will need to convert camera counts to photo-electrons.\n",
    "\n",
    "Ideally the analysis would update the Cramer-Rao bounds for each localization as the estimates for the background and intensity change. However as the Cramer-Rao calculation is somewhat computational expensive we forego this step and instead just use average values."
   ]
  },
  {
   "cell_type": "code",
   "execution_count": null,
   "metadata": {},
   "outputs": [],
   "source": [
    "import storm_analysis.multi_plane.plane_weighting as planeWeighting\n",
    "\n",
    "planeWeighting.runPlaneWeighting(\"multiplane.xml\", \n",
    "                                 \"weights.npy\",\n",
    "                                 [20, 20],   # 20 photons average background in each plane\n",
    "                                 2000,       # 2000 photon average PSF sum.\n",
    "                                 no_plots = False)\n"
   ]
  },
  {
   "cell_type": "markdown",
   "metadata": {},
   "source": [
    "In the above plots the colored lines are the Cramer-Rao bounds for each individual PSF and the black line is the Cramer-Rao bound for all of the PSFs together."
   ]
  },
  {
   "cell_type": "code",
   "execution_count": null,
   "metadata": {},
   "outputs": [],
   "source": []
  }
 ],
 "metadata": {
  "kernelspec": {
   "display_name": "Python 3",
   "language": "python",
   "name": "python3"
  },
  "language_info": {
   "codemirror_mode": {
    "name": "ipython",
    "version": 3
   },
   "file_extension": ".py",
   "mimetype": "text/x-python",
   "name": "python",
   "nbconvert_exporter": "python",
   "pygments_lexer": "ipython3",
   "version": "3.6.7"
  }
 },
 "nbformat": 4,
 "nbformat_minor": 2
}

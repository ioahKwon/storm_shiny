{
 "cells": [
  {
   "cell_type": "markdown",
   "metadata": {},
   "source": [
    "## 3D-DAOSTORM 2D / 2D fixed analysis.\n",
    "This notebook explains how to do 2D or 2D fixed analysis using 3D-DAOSTORM.\n",
    "* In 2D fixed fitting we constrain the Gaussian fitting function with a fixed $\\sigma$ value.\n",
    "* In 2D fitting the Gaussian $\\sigma$ can vary, but it is forced to be the same in X and Y."
   ]
  },
  {
   "cell_type": "markdown",
   "metadata": {},
   "source": [
    "### Configuring the directory\n",
    "Create an empty directory somewhere on your computer and tell Python to go to that directory."
   ]
  },
  {
   "cell_type": "code",
   "execution_count": null,
   "metadata": {},
   "outputs": [],
   "source": [
    "import os\n",
    "os.chdir(\"/home/hbabcock/Data/storm_analysis/jy_testing/\")\n",
    "print(os.getcwd())"
   ]
  },
  {
   "cell_type": "markdown",
   "metadata": {},
   "source": [
    "Generate sample data for analysis."
   ]
  },
  {
   "cell_type": "code",
   "execution_count": null,
   "metadata": {},
   "outputs": [],
   "source": [
    "import storm_analysis.jupyter_examples.dao3d_2d as dao3d_2d\n",
    "dao3d_2d.configure()"
   ]
  },
  {
   "cell_type": "markdown",
   "metadata": {},
   "source": [
    "### Working with analysis parameters.\n",
    "In this example we'll only adjust `threshold` but other important parameters include `sigma`, `roi_size` and `find_max_radius`."
   ]
  },
  {
   "cell_type": "code",
   "execution_count": null,
   "metadata": {},
   "outputs": [],
   "source": [
    "import storm_analysis.sa_library.parameters as params\n",
    "daop = params.ParametersDAO().initFromFile(\"example.xml\")"
   ]
  },
  {
   "cell_type": "markdown",
   "metadata": {},
   "source": [
    "Getting help with a parameter:"
   ]
  },
  {
   "cell_type": "code",
   "execution_count": null,
   "metadata": {},
   "outputs": [],
   "source": [
    "print(daop.helpAttr(\"threshold\"))"
   ]
  },
  {
   "cell_type": "markdown",
   "metadata": {},
   "source": [
    "Changing or getting a parameter. Here we are setting `max_frame` to 1 so that 3D-DAOSTORM will only analyze the first frame."
   ]
  },
  {
   "cell_type": "code",
   "execution_count": null,
   "metadata": {},
   "outputs": [],
   "source": [
    "daop.changeAttr(\"max_frame\", 1)\n",
    "print(\"max_frame is\", daop.getAttr(\"max_frame\"))"
   ]
  },
  {
   "cell_type": "markdown",
   "metadata": {},
   "source": [
    "Print out all of the available parameters and their current values."
   ]
  },
  {
   "cell_type": "code",
   "execution_count": null,
   "metadata": {},
   "outputs": [],
   "source": [
    "daop.prettyPrint()"
   ]
  },
  {
   "cell_type": "markdown",
   "metadata": {},
   "source": [
    "### Testing analysis parameters."
   ]
  },
  {
   "cell_type": "code",
   "execution_count": null,
   "metadata": {},
   "outputs": [],
   "source": [
    "import os\n",
    "import storm_analysis.jupyter_examples.overlay_image as overlay_image\n",
    "import storm_analysis.daostorm_3d.mufit_analysis as mfit\n"
   ]
  },
  {
   "cell_type": "code",
   "execution_count": null,
   "metadata": {},
   "outputs": [],
   "source": [
    "# For this data-set, no localizations will be found if threshold is above 25.0\n",
    "daop.changeAttr(\"threshold\", 6.0)\n",
    "\n",
    "daop.changeAttr(\"find_max_radius\", 5) # original value is 5 (pixels)\n",
    "daop.changeAttr(\"roi_size\", 9) # original value is 9 (pixels)\n",
    "daop.changeAttr(\"sigma\", 1.5) # original value is 1.5 (pixels)\n",
    "\n",
    "# Save the changed parameters.\n",
    "#\n",
    "# Using pretty = True will create a more human readable XML file. The default value is False.\n",
    "#\n",
    "daop.toXMLFile(\"testing.xml\", pretty = True)"
   ]
  },
  {
   "cell_type": "markdown",
   "metadata": {},
   "source": [
    "Test 3D-DAOSTORM analysis with these parameters. Ideally it should find 120 localizations in the frame.\n",
    "\n",
    "Note that 3D-DAOSTORM will first check for existing analysis so you have to delete the old analysis after changing parameters."
   ]
  },
  {
   "cell_type": "code",
   "execution_count": null,
   "metadata": {},
   "outputs": [],
   "source": [
    "if os.path.exists(\"testing.hdf5\"):\n",
    "    os.remove(\"testing.hdf5\")\n",
    "    \n",
    "mfit.analyze(\"test.tif\", \"testing.hdf5\", \"testing.xml\")\n",
    "overlay_image.overlayImage(\"test.tif\", \"testing.hdf5\", 0)"
   ]
  },
  {
   "cell_type": "markdown",
   "metadata": {},
   "source": [
    "### Using Visualizer\n",
    "\n",
    "An alternative way to visualize the results is to use the visualizer program. This will only work if you are running jupyter locally."
   ]
  },
  {
   "cell_type": "code",
   "execution_count": null,
   "metadata": {},
   "outputs": [],
   "source": [
    "import inspect\n",
    "import storm_analysis\n",
    "\n",
    "vis_path = os.path.dirname(inspect.getfile(storm_analysis)) + \"/visualizer/\"\n",
    "\n",
    "vis_cmd = vis_path + \"/visualizer.py\"\n",
    "vis_dir = os.getcwd()\n",
    "\n",
    "%run $vis_cmd $vis_dir\n",
    "\n",
    "print(vis_path)"
   ]
  },
  {
   "cell_type": "markdown",
   "metadata": {},
   "source": [
    "### Analyzing the whole movie"
   ]
  },
  {
   "cell_type": "code",
   "execution_count": null,
   "metadata": {},
   "outputs": [],
   "source": [
    "# This tells 3D-DAOSTORM to analyze the whole movie.\n",
    "daop.changeAttr(\"max_frame\", -1)\n",
    "daop.toXMLFile(\"final.xml\")\n",
    "\n",
    "# Delete any stale results.\n",
    "if os.path.exists(\"final.hdf5\"):\n",
    "    os.remove(\"final.hdf5\")\n",
    "    \n",
    "# Run the analysis.\n",
    "mfit.analyze(\"test.tif\", \"final.hdf5\", \"final.xml\")\n"
   ]
  },
  {
   "cell_type": "markdown",
   "metadata": {},
   "source": [
    "### Creating an image from the analysis"
   ]
  },
  {
   "cell_type": "code",
   "execution_count": null,
   "metadata": {},
   "outputs": [],
   "source": [
    "import matplotlib\n",
    "import matplotlib.pyplot as pyplot\n",
    "\n",
    "import storm_analysis.sa_utilities.hdf5_to_image as h5_image\n",
    "\n",
    "sr_im = h5_image.render2DImage(\"final.hdf5\", scale = 1, sigma = 1)\n",
    "\n",
    "fig = pyplot.figure(figsize = (8, 8))\n",
    "ax = fig.add_subplot(1,1,1)\n",
    "ax.imshow(sr_im)\n",
    "ax.set_title(\"SR Image\")\n",
    "\n",
    "pyplot.show()\n"
   ]
  },
  {
   "cell_type": "code",
   "execution_count": null,
   "metadata": {},
   "outputs": [],
   "source": []
  }
 ],
 "metadata": {
  "kernelspec": {
   "display_name": "Python 3",
   "language": "python",
   "name": "python3"
  },
  "language_info": {
   "codemirror_mode": {
    "name": "ipython",
    "version": 3
   },
   "file_extension": ".py",
   "mimetype": "text/x-python",
   "name": "python",
   "nbconvert_exporter": "python",
   "pygments_lexer": "ipython3",
   "version": "3.6.7"
  }
 },
 "nbformat": 4,
 "nbformat_minor": 2
}

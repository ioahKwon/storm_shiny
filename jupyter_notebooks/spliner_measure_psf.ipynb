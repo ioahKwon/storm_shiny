{
 "cells": [
  {
   "cell_type": "markdown",
   "metadata": {},
   "source": [
    "## Measuring a PSF for Spliner Analysis\n",
    "\n",
    "In this example we'll measure a microscope PSF for Spliner analysis."
   ]
  },
  {
   "cell_type": "markdown",
   "metadata": {},
   "source": [
    "### Configuration\n",
    "\n",
    "To measure the PSF you'll need a movie of sparse fluorescent beads being scanned through the microscope focus. We typically do this with small fluorescent beads on the order of 0.1um in diameter. The beads are fixed to the coverslip using a buffer with 100mM MgCl2. The coverslip is scanned through the focus in 10nm steps using a piezo z scanner. We assume that the drift in XYZ is neglible during the time it takes to take these movies (10s of seconds).\n",
    "\n",
    "In this example we're just going to simulate this using a theoritical PSF that is an idealized astigmatic PSF. "
   ]
  },
  {
   "cell_type": "code",
   "execution_count": null,
   "metadata": {},
   "outputs": [],
   "source": [
    "import os\n",
    "os.chdir(\"/home/hbabcock/Data/storm_analysis/jy_testing/\")\n",
    "print(os.getcwd())"
   ]
  },
  {
   "cell_type": "markdown",
   "metadata": {},
   "source": [
    "Generate the sample data for this example."
   ]
  },
  {
   "cell_type": "code",
   "execution_count": null,
   "metadata": {},
   "outputs": [],
   "source": [
    "import storm_analysis.jupyter_examples.spliner_measure_psf as spliner_measure_psf\n",
    "spliner_measure_psf.configure()"
   ]
  },
  {
   "cell_type": "markdown",
   "metadata": {},
   "source": [
    "### Prerequisites"
   ]
  },
  {
   "cell_type": "markdown",
   "metadata": {},
   "source": [
    "A text file containing the z-offset of each frame in the movie. This file contains two columns, the first is whether or not the data in this frame should be used (0 = No, 1 = Yes) and the second contains the z offset in microns."
   ]
  },
  {
   "cell_type": "code",
   "execution_count": null,
   "metadata": {},
   "outputs": [],
   "source": [
    "# Load sample z_offsets.txt file. In this example every frame is valid.\n",
    "\n",
    "import numpy\n",
    "z_offsets = numpy.loadtxt(\"z_offsets.txt\")\n",
    "\n",
    "print(z_offsets[:5,:])"
   ]
  },
  {
   "cell_type": "markdown",
   "metadata": {},
   "source": [
    "A text file containing the approximate bead locations. One way to create this is by using the `visualizer` tool in the `storm_analysis.visualizer` folder. Another alternative might be using ImageJ. Here we are just going to use generated file."
   ]
  },
  {
   "cell_type": "code",
   "execution_count": null,
   "metadata": {},
   "outputs": [],
   "source": [
    "bead_locs = numpy.loadtxt(\"bead_locs.txt\")\n",
    "print(bead_locs)\n"
   ]
  },
  {
   "cell_type": "code",
   "execution_count": null,
   "metadata": {},
   "outputs": [],
   "source": [
    "# Check that the specified positions align with the actual bead locations.\n",
    "#\n",
    "# spliner_measure.tif is the name of the simulated movie.\n",
    "#\n",
    "import storm_analysis.jupyter_examples.overlay_image as overlay_image\n",
    "overlay_image.overlayImageBeads(\"spliner_measure.tif\", \"bead_locs.txt\", 40)"
   ]
  },
  {
   "cell_type": "markdown",
   "metadata": {},
   "source": [
    "### PSF Measurement"
   ]
  },
  {
   "cell_type": "markdown",
   "metadata": {},
   "source": [
    "Now that we have the 3 files that we need we can measure the PSF. You want to use an AOI that is a bit larger then the size you plan to use when creating the spline file. \n",
    "\n",
    "Notes:\n",
    "\n",
    "* The AOI size is the 1/2 size so using 12 pixels means that the final PSF will be 24 x 24 pixels.\n",
    "* The pixel size in this simulation was 100nm\n",
    "* The simulated movie covered a Z range of +-0.6um, so we're using exactly that. For real data you might want to use a Z range that is slightly smaller than range you scanned.\n",
    "* The Z step size is 50nm, which is fine enough for most applications, assuming a high NA objective with a depth of field on the order of 1um.\n",
    "\n",
    "Also: \n",
    "\n",
    "If you think that your coverslip might not be completely flat, or that your bead locations are not sufficiently accurate then you can set the `refine` parameter to `True`. With this setting each PSF will be aligned to the average of the remaining PSF using a correlation metric. You may see some warning messages like `Warning: Desired error not necessarily achieved due to precision loss.`, it is usually safe to ignore these."
   ]
  },
  {
   "cell_type": "code",
   "execution_count": null,
   "metadata": {},
   "outputs": [],
   "source": [
    "import storm_analysis.spliner.measure_psf_beads as measure_psf_beads\n",
    "\n",
    "measure_psf_beads.measurePSFBeads(\"spliner_measure.tif\", \n",
    "                                  \"z_offsets.txt\",\n",
    "                                  \"bead_locs.txt\",\n",
    "                                  \"spliner_psf.psf\",\n",
    "                                  aoi_size = 12,\n",
    "                                  pixel_size = 0.1,\n",
    "                                  refine = True,\n",
    "                                  z_range = 0.6,\n",
    "                                  z_step = 0.05)\n",
    "                                  "
   ]
  },
  {
   "cell_type": "markdown",
   "metadata": {},
   "source": [
    "### Visualizing the measured PSF"
   ]
  },
  {
   "cell_type": "markdown",
   "metadata": {},
   "source": [
    "Make some images of the measured PSF."
   ]
  },
  {
   "cell_type": "code",
   "execution_count": null,
   "metadata": {},
   "outputs": [],
   "source": [
    "import storm_analysis.jupyter_examples.psf_images as psfImages\n",
    "\n",
    "psfImages.psfImages(\"spliner_psf.psf\")"
   ]
  },
  {
   "cell_type": "markdown",
   "metadata": {},
   "source": [
    "Print some properties of the PSF."
   ]
  },
  {
   "cell_type": "code",
   "execution_count": null,
   "metadata": {},
   "outputs": [],
   "source": [
    "import storm_analysis.spliner.print_psf as printPSF\n",
    "\n",
    "printPSF.printPSF(\"spliner_psf.psf\")"
   ]
  },
  {
   "cell_type": "markdown",
   "metadata": {},
   "source": [
    "Now you can use `storm_analysis.spliner.psf_to_spline` to convert the PSF into a spline that `Spliner` can use for SMLM movie analysis"
   ]
  },
  {
   "cell_type": "raw",
   "metadata": {},
   "source": [
    "Reference printPSF.printPSF() results:\n",
    "\n",
    "pixel_size 0.1\n",
    "psf shape (25, 24, 24)\n",
    "type 3D\n",
    "version 2.0\n",
    "zmax 600.0\n",
    "zmin -600.0\n",
    "zvals [-600.0, -550.0, -500.0, -450.0, -400.0, -350.0, -300.0, -250.0, -200.0, -150.0, -100.0, -50.0, 0.0, 50.0, 100.0, 150.0, 200.0, 250.0, 300.0, 350.0, 400.0, 450.0, 500.0, 550.0, 600.0]"
   ]
  }
 ],
 "metadata": {
  "kernelspec": {
   "display_name": "Python 3",
   "language": "python",
   "name": "python3"
  },
  "language_info": {
   "codemirror_mode": {
    "name": "ipython",
    "version": 3
   },
   "file_extension": ".py",
   "mimetype": "text/x-python",
   "name": "python",
   "nbconvert_exporter": "python",
   "pygments_lexer": "ipython3",
   "version": "3.6.7"
  }
 },
 "nbformat": 4,
 "nbformat_minor": 2
}

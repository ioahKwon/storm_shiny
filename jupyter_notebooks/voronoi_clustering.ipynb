{
 "cells": [
  {
   "cell_type": "markdown",
   "metadata": {},
   "source": [
    "## Using a Voronoi diagram bases approach to cluster localizations.\n",
    "\n",
    "This notebook demonstrates how to cluster localizations using the voronoi algorithm. It also demonstrates how to work with the clustered data.\n",
    "\n",
    "Note:\n",
    "* This implementation of the algorithm only works in 2D.\n",
    "* It always ignores localization category information.\n",
    "\n",
    "References:\n",
    "* [Levet et al, Nature Methods, 2015](http://dx.doi.org/10.1038/nmeth.3579)."
   ]
  },
  {
   "cell_type": "markdown",
   "metadata": {},
   "source": [
    "### Configuration\n",
    "\n",
    "Create an empty directory somewhere on your computer and tell Python to go to that directory."
   ]
  },
  {
   "cell_type": "code",
   "execution_count": null,
   "metadata": {},
   "outputs": [],
   "source": [
    "import matplotlib\n",
    "import matplotlib.pyplot as pyplot\n",
    "import numpy\n",
    "import os\n",
    "\n",
    "os.chdir(\"/home/hbabcock/Data/storm_analysis/jy_testing/\")\n",
    "print(os.getcwd())\n",
    "\n",
    "numpy.random.seed(1)\n"
   ]
  },
  {
   "cell_type": "markdown",
   "metadata": {},
   "source": [
    "### Generate data to cluster\n",
    "\n",
    "In this example we are just going to generate the clustering data synthetically."
   ]
  },
  {
   "cell_type": "code",
   "execution_count": null,
   "metadata": {},
   "outputs": [],
   "source": [
    "import storm_analysis.jupyter_examples.clustering_data as clusteringData\n",
    "\n",
    "# 40 clusters\n",
    "# 1000 tracks per cluster\n",
    "# 20000 background tracks\n",
    "clusteringData.makeClusters(\"clusters.hdf5\", 40, 1000, 20000)"
   ]
  },
  {
   "cell_type": "code",
   "execution_count": null,
   "metadata": {},
   "outputs": [],
   "source": [
    "# Make an image from the data.\n",
    "import storm_analysis.sa_utilities.hdf5_to_image as h5_image\n",
    "\n",
    "sr_im = h5_image.render2DImage(\"clusters.hdf5\", scale = 2, sigma = 1)\n",
    "\n",
    "fig = pyplot.figure(figsize = (9, 6))\n",
    "pyplot.imshow(sr_im, cmap = \"gray\")\n",
    "pyplot.show()"
   ]
  },
  {
   "cell_type": "markdown",
   "metadata": {},
   "source": [
    "### Cluster the data\n",
    "\n",
    "Note:\n",
    "* The results of the clustering are saved in the HDF5 that contained the tracks / localizations.\n",
    "* Clustering is done on tracks if they are available, otherwise it is done on the localizations."
   ]
  },
  {
   "cell_type": "code",
   "execution_count": null,
   "metadata": {},
   "outputs": [],
   "source": [
    "import storm_analysis.voronoi.voronoi_analysis as voronoiAnalysis\n",
    "\n",
    "# The second parameter is the relative density factor.\n",
    "# The third parameter is the minimum cluster size.\n",
    "voronoiAnalysis.findClusters(\"clusters.hdf5\", 0.2, 100)"
   ]
  },
  {
   "cell_type": "markdown",
   "metadata": {},
   "source": [
    "### RGB image of the clustering results"
   ]
  },
  {
   "cell_type": "code",
   "execution_count": null,
   "metadata": {},
   "outputs": [],
   "source": [
    "import storm_analysis.dbscan.cluster_images as clusterImages\n",
    "\n",
    "[rgb_im, sum_im, num_clusters] = clusterImages.clusterImages(\"clusters.hdf5\", 10, 3, scale = 2, \n",
    "                                                             show_unclustered = True)\n",
    "\n",
    "\n",
    "fig = pyplot.figure(figsize = (9, 6))\n",
    "pyplot.imshow(rgb_im, cmap = \"gray\")\n",
    "pyplot.show()\n"
   ]
  },
  {
   "cell_type": "markdown",
   "metadata": {},
   "source": [
    "### Create a file with some statistics for each cluster"
   ]
  },
  {
   "cell_type": "code",
   "execution_count": null,
   "metadata": {},
   "outputs": [],
   "source": [
    "import storm_analysis.dbscan.dbscan_analysis as dbscanAnalysis\n",
    "\n",
    "stats_name = dbscanAnalysis.clusterStats(\"clusters.hdf5\", 10)\n",
    "\n",
    "print()\n",
    "print(\"Cluster statistics:\")\n",
    "with open(stats_name) as fp:\n",
    "    for line in fp:\n",
    "        print(line.strip())"
   ]
  },
  {
   "cell_type": "markdown",
   "metadata": {},
   "source": [
    "### Working with Voronoi HDF5 clusters files"
   ]
  },
  {
   "cell_type": "code",
   "execution_count": null,
   "metadata": {},
   "outputs": [],
   "source": [
    "import storm_analysis.dbscan.clusters_sa_h5py as clSAH5Py\n",
    "\n",
    "# This is basically the same as the DBSCAN clusters file so also see the\n",
    "# dbscan_clustering Jupyter notebook.\n",
    "#\n",
    "with clSAH5Py.SAH5Clusters(\"clusters.hdf5\") as cl_h5:\n",
    "    \n",
    "    # Get clustering program information.\n",
    "    print(\"Analysis info\", cl_h5.getClusteringInfo())\n",
    "    \n",
    "    # Get the number of clusters.\n",
    "    print(\"Total clusters\", cl_h5.getNClusters())\n",
    "    \n",
    "    # The Voronoi analysis includes a density for each localization/track, so we'll\n",
    "    # iterate over all the localizations/tracks and make a histogram of this property.\n",
    "    #\n",
    "    # Use skip_unclustered = False to include all the localizations/tracks that were\n",
    "    # not assigned to a cluster.\n",
    "    #\n",
    "    print()\n",
    "    density = None\n",
    "    for index, cluster in cl_h5.clustersIterator(fields = [\"density\"], skip_unclustered = False):\n",
    "        \n",
    "        # Use log of the density as the spread of densities is very large, particularly\n",
    "        # in the clusters.\n",
    "        log_density = numpy.log(cluster[\"density\"] + 1.0e-6)\n",
    "        [hist, bins] = numpy.histogram(log_density, bins = 40, range = (-15.0, 0.0))\n",
    "        \n",
    "        if density is None:\n",
    "            density = hist\n",
    "        else:\n",
    "            density += hist\n",
    "            \n",
    "    centers = 0.5*(bins[1:] + bins[:-1])\n",
    "    pyplot.plot(centers, density)\n",
    "    pyplot.xlabel(\"Density (log(1/nm^2 + 1.0e-6))\")\n",
    "    pyplot.ylabel(\"Counts\")\n",
    "    pyplot.show()\n",
    "            \n"
   ]
  },
  {
   "cell_type": "code",
   "execution_count": null,
   "metadata": {},
   "outputs": [],
   "source": []
  }
 ],
 "metadata": {
  "kernelspec": {
   "display_name": "Python 3",
   "language": "python",
   "name": "python3"
  },
  "language_info": {
   "codemirror_mode": {
    "name": "ipython",
    "version": 3
   },
   "file_extension": ".py",
   "mimetype": "text/x-python",
   "name": "python",
   "nbconvert_exporter": "python",
   "pygments_lexer": "ipython3",
   "version": "3.6.7"
  }
 },
 "nbformat": 4,
 "nbformat_minor": 2
}

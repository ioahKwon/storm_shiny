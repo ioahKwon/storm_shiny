{
 "cells": [
  {
   "cell_type": "markdown",
   "metadata": {},
   "source": [
    "## Diagnostics for 3D-DAOSTORM (2d, Least squares)"
   ]
  },
  {
   "cell_type": "markdown",
   "metadata": {},
   "source": [
    "### Configure environment"
   ]
  },
  {
   "cell_type": "code",
   "execution_count": null,
   "metadata": {},
   "outputs": [],
   "source": [
    "import os\n",
    "os.chdir(\"/home/hbabcock/Data/storm_analysis/sa_diagnostics/dao_3d_2d_ls\")\n",
    "print(os.getcwd())\n",
    "\n",
    "import numpy\n",
    "numpy.random.seed(1)"
   ]
  },
  {
   "cell_type": "code",
   "execution_count": null,
   "metadata": {},
   "outputs": [],
   "source": [
    "import storm_analysis.diagnostics.daostorm_3d.settings as settings\n",
    "import storm_analysis.diagnostics.daostorm_3d.configure as configure\n",
    "import storm_analysis.diagnostics.daostorm_3d.make_data as makeData\n",
    "import storm_analysis.diagnostics.daostorm_3d.analyze_data as analyzeData\n",
    "import storm_analysis.diagnostics.daostorm_3d.collate as collate\n"
   ]
  },
  {
   "cell_type": "code",
   "execution_count": null,
   "metadata": {},
   "outputs": [],
   "source": [
    "settings.photons = [[20, 500], [20, 1000]]\n",
    "print(settings.photons)\n",
    "\n",
    "settings.fit_error_model = \"LS\"\n",
    "settings.iterations = 20\n",
    "settings.model = '2d'\n",
    "settings.n_frames = 10\n",
    "settings.peak_locations = None\n"
   ]
  },
  {
   "cell_type": "markdown",
   "metadata": {},
   "source": [
    "### Configure"
   ]
  },
  {
   "cell_type": "code",
   "execution_count": null,
   "metadata": {},
   "outputs": [],
   "source": [
    "configure.configure()"
   ]
  },
  {
   "cell_type": "markdown",
   "metadata": {},
   "source": [
    "### Make Data"
   ]
  },
  {
   "cell_type": "code",
   "execution_count": null,
   "metadata": {},
   "outputs": [],
   "source": [
    "makeData.makeData()"
   ]
  },
  {
   "cell_type": "markdown",
   "metadata": {},
   "source": [
    "### Analyze data"
   ]
  },
  {
   "cell_type": "code",
   "execution_count": null,
   "metadata": {},
   "outputs": [],
   "source": [
    "%time analyzeData.analyzeData()"
   ]
  },
  {
   "cell_type": "markdown",
   "metadata": {},
   "source": [
    "### Collate data"
   ]
  },
  {
   "cell_type": "code",
   "execution_count": null,
   "metadata": {},
   "outputs": [],
   "source": [
    "collate.collate()"
   ]
  },
  {
   "cell_type": "markdown",
   "metadata": {},
   "source": [
    "### Reference results"
   ]
  },
  {
   "cell_type": "raw",
   "metadata": {},
   "source": [
    "2019-03-29\n",
    "commit 9bdd3dca5324012b8f05e83500e725002cd3c60b\n",
    "\n",
    "Processing test_01\n",
    "Using max_distance 200.0 nm for error calcuations.\n",
    "Processing test_02\n",
    "Using max_distance 200.0 nm for error calcuations.\n",
    "\n",
    "Analysis Summary:\n",
    "Processed 2520 localizations in 1.18 seconds, 2142.07/sec\n",
    "Recall 0.94246\n",
    "Noise 0.05754\n",
    "XY Error Standard Deviation (nm):\n",
    "test_01\t14.20\t14.19\n",
    "test_02\t8.23\t7.96\n",
    "\n",
    "XY RMSE (nm):\n",
    "test_01\t14.20\t14.19\n",
    "test_02\t8.24\t7.96\n",
    "\n",
    "XY Width Error, Mean difference with truth, Standard deviation (pixels):\n",
    "test_01\t0.016\t0.156\t0.016\t0.156\n",
    "test_02\t0.023\t0.146\t0.023\t0.146"
   ]
  }
 ],
 "metadata": {
  "kernelspec": {
   "display_name": "Python 3",
   "language": "python",
   "name": "python3"
  },
  "language_info": {
   "codemirror_mode": {
    "name": "ipython",
    "version": 3
   },
   "file_extension": ".py",
   "mimetype": "text/x-python",
   "name": "python",
   "nbconvert_exporter": "python",
   "pygments_lexer": "ipython3",
   "version": "3.6.7"
  }
 },
 "nbformat": 4,
 "nbformat_minor": 2
}

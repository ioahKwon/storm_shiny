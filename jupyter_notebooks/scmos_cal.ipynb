{
 "cells": [
  {
   "cell_type": "markdown",
   "metadata": {},
   "source": [
    "## Calibrating an sCMOS camera \n",
    "This notebook explains how to calibrate an sCMOS camera, i.e. how to measure the offset, variance, gain and relative quantum efficiency of each pixel in the camera. The gain is determined under the assumption that the photo-electrons (e-) detected per well are Poisson distributed. This distribution has the property that it's mean is equal to it's variance.\n",
    "\n",
    "Note:\n",
    "* The Poisson assumption is not valid for an EMCCD camera due to the excess noise added by the amplification stage. However to a pretty good approximation, the variance scales as twice the mean so you'll get basically the right answer by multiplying the measured gain by 2.\n",
    "* This calibration does not tell you anything about the absolute quantum efficiency of the camera, despite the occasional claim to the contrary.\n"
   ]
  },
  {
   "cell_type": "markdown",
   "metadata": {},
   "source": [
    "### Configuring the directory\n",
    "Create an empty directory somewhere on your computer and tell Python to go to that directory."
   ]
  },
  {
   "cell_type": "code",
   "execution_count": null,
   "metadata": {},
   "outputs": [],
   "source": [
    "import os\n",
    "os.chdir(\"/home/hbabcock/Data/storm_analysis/jy_testing/\")\n",
    "print(os.getcwd())"
   ]
  },
  {
   "cell_type": "markdown",
   "metadata": {},
   "source": [
    "Generate sample data for analysis. \n",
    "\n",
    "Here we are just going to generate a bunch of simulated movies. In practice you would do this by taking one movie with the camera shutter closed and the other movies at different, and more or less constant illuminations. One way do this is using the bright-field lamp on the microscope and a low magnification objective (like a 10x) with no sample.\n",
    "\n",
    "Note also that in order to measure the variance and gain to better than 1% you need to take at least 20k frames for each light intensity."
   ]
  },
  {
   "cell_type": "code",
   "execution_count": null,
   "metadata": {},
   "outputs": [],
   "source": [
    "import numpy\n",
    "import numpy.random\n",
    "import tifffile\n",
    "\n",
    "n_frames = 4000\n",
    "x_size = 60\n",
    "y_size = 50\n",
    "gain = numpy.random.normal(loc = 2.0, scale = 0.1, size = (x_size, y_size))\n",
    "offset = numpy.random.randint(95, high = 106, size = (x_size, y_size)).astype(numpy.float)\n",
    "read_noise = numpy.random.normal(loc = 1.5, scale = 0.1, size = (x_size, y_size))\n",
    "c_data = [[0.0, \"dark\"], [1000.0, \"light1\"], [2000.0, \"light2\"], [3000, \"light3\"], [4000, \"light4\"]]\n",
    "    \n",
    "print(\"Mean offset\", numpy.mean(offset))\n",
    "print(\"Mean read noise\", numpy.mean(read_noise))\n",
    "\n",
    "def makeMovie(name, average_intensity):\n",
    "    with tifffile.TiffWriter(name) as tf:\n",
    "        for i in range(n_frames):\n",
    "            # Signal - Poisson distribution\n",
    "            image = gain * numpy.random.poisson(lam = average_intensity, size = (x_size, y_size))\n",
    "        \n",
    "            # Read Noise - Normal distribution\n",
    "            image += numpy.random.normal(scale = read_noise, size = (x_size, y_size))\n",
    "        \n",
    "            # Camera baseline.        \n",
    "            image += offset\n",
    "\n",
    "            # 16 bit camera.\n",
    "            tf.save(numpy.round(image).astype(numpy.uint16))\n",
    "    print(\"Made\", name)\n",
    "        \n",
    "for elt in c_data:\n",
    "    makeMovie(elt[1] + \".tif\", elt[0])\n",
    "    "
   ]
  },
  {
   "cell_type": "markdown",
   "metadata": {},
   "source": [
    "### Calibration"
   ]
  },
  {
   "cell_type": "markdown",
   "metadata": {},
   "source": [
    "Compute statistics for each movie (mean and variance) and save in the appropriate format for `camera_calibration.py`."
   ]
  },
  {
   "cell_type": "code",
   "execution_count": null,
   "metadata": {},
   "outputs": [],
   "source": [
    "import storm_analysis.sCMOS.movie_to_calib_format as mTCF\n",
    "\n",
    "for elt in c_data:\n",
    "    bname = elt[1]\n",
    "    [frame_mean, N, NN] = mTCF.movieToCalibration(bname + \".tif\")\n",
    "    mean = N/float(frame_mean.size)\n",
    "    print(\"File\", bname)\n",
    "    print(\"Mean\", numpy.mean(mean))\n",
    "    print(\"Variance\", numpy.mean(NN/float(frame_mean.size) - mean*mean))\n",
    "    print(\"\")\n",
    "    numpy.save(bname + \".npy\", [frame_mean, N, NN])"
   ]
  },
  {
   "cell_type": "markdown",
   "metadata": {},
   "source": [
    "Run `camera_calibration.py` to calculate the sCMOS calibration file."
   ]
  },
  {
   "cell_type": "code",
   "execution_count": null,
   "metadata": {},
   "outputs": [],
   "source": [
    "import storm_analysis.sCMOS.camera_calibration as cam_cal\n",
    "\n",
    "# Note: The statistics file should be in order from dimmest to brightest.\n",
    "stat_files = list(map(lambda x: x[1] + \".npy\", c_data))\n",
    "print(stat_files)\n",
    "\n",
    "# Note: The relative quantum efficiency is estimated by comparing the values\n",
    "# in a smoothed version of the brightest image to the raw version.\n",
    "#\n",
    "[m_offset, m_variance, m_gain, m_rqe] = cam_cal.cameraCalibration(stat_files)\n",
    "\n",
    "# The '2' is a file format marker. If this is left out then sCMOS analysis\n",
    "# will interpret the data incorrectly.\n",
    "#\n",
    "# See the function loadSCMOS calibration in the file\n",
    "# storm_analysis/sa_library/analysis_io.py for details.\n",
    "#\n",
    "numpy.save(\"calib.npy\", [m_offset, m_variance, m_gain, m_rqe, 2])\n",
    "\n",
    "print(\"Mean gain\", numpy.mean(m_gain))"
   ]
  },
  {
   "cell_type": "markdown",
   "metadata": {},
   "source": [
    "### Evaluate the results"
   ]
  },
  {
   "cell_type": "markdown",
   "metadata": {},
   "source": [
    "How good a job did we do measuring the calibration?"
   ]
  },
  {
   "cell_type": "code",
   "execution_count": null,
   "metadata": {},
   "outputs": [],
   "source": [
    "def makePlot(x, y, limits, xlabel, ylabel):\n",
    "    fig = pyplot.figure(figsize = (8,8))\n",
    "    ax = fig.add_subplot(1,1,1)\n",
    "    ax.scatter(x, y, s = 4)\n",
    "    ax.plot([limits[0],limits[1]],[limits[2],limits[3]], color = 'black', linewidth = 2)\n",
    "    ax.axis(\"equal\")\n",
    "    ax.axis(limits)\n",
    "    pyplot.xlabel(xlabel)\n",
    "    pyplot.ylabel(ylabel)\n",
    "    pyplot.show()"
   ]
  },
  {
   "cell_type": "code",
   "execution_count": null,
   "metadata": {},
   "outputs": [],
   "source": [
    "import matplotlib\n",
    "import matplotlib.pyplot as pyplot\n",
    "\n",
    "import storm_analysis.sa_library.analysis_io as analysisIO\n",
    "\n",
    "rn_sqr = read_noise * read_noise\n",
    "\n",
    "# This is the function that analysis will use to load the sCMOS calibration data.\n",
    "[f_offset, f_variance, f_gain, f_rqe] = analysisIO.loadCMOSCalibration(\"calib.npy\", verbose = True)\n",
    "\n",
    "print(\"Relative QE fractional measurement error: {0:.3f}\".format(numpy.std(f_rqe)))\n",
    "\n",
    "makePlot(offset.flatten(), f_offset.flatten(), [90, 110, 90, 110], \"Offset\", \"Measured Offset\")\n",
    "makePlot(rn_sqr.flatten(), f_variance.flatten(), [1.25, 3.25, 1.25, 3.25], \"Variance\", \"Measured Variance\")\n",
    "makePlot(gain.flatten(), f_gain.flatten(), [1.5, 2.5, 1.5, 2.5], \"Gain\", \"Measured Gain\")\n",
    "\n"
   ]
  },
  {
   "cell_type": "markdown",
   "metadata": {},
   "source": [
    "### Also"
   ]
  },
  {
   "cell_type": "markdown",
   "metadata": {},
   "source": [
    "The `storm-control` setup control software (available [here](https://github.com/ZhuangLab/storm-control)) can create the statistics files directly. This avoids having to store the possibly quite large movie files."
   ]
  }
 ],
 "metadata": {
  "kernelspec": {
   "display_name": "Python 3",
   "language": "python",
   "name": "python3"
  },
  "language_info": {
   "codemirror_mode": {
    "name": "ipython",
    "version": 3
   },
   "file_extension": ".py",
   "mimetype": "text/x-python",
   "name": "python",
   "nbconvert_exporter": "python",
   "pygments_lexer": "ipython3",
   "version": "3.6.7"
  }
 },
 "nbformat": 4,
 "nbformat_minor": 2
}

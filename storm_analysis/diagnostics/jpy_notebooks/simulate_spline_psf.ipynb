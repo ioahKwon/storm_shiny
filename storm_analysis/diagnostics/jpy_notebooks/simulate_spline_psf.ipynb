{
 "cells": [
  {
   "cell_type": "markdown",
   "metadata": {},
   "source": [
    "## Diagnostics for simulate using a spline as the PSF."
   ]
  },
  {
   "cell_type": "markdown",
   "metadata": {},
   "source": [
    "### Configure environment"
   ]
  },
  {
   "cell_type": "code",
   "execution_count": null,
   "metadata": {},
   "outputs": [],
   "source": [
    "import os\n",
    "os.chdir(\"/home/hbabcock/Data/storm_analysis/sa_diagnostics/simulate_spline_psf\")\n",
    "print(os.getcwd())\n",
    "\n",
    "import numpy\n",
    "numpy.random.seed(1)"
   ]
  },
  {
   "cell_type": "code",
   "execution_count": null,
   "metadata": {},
   "outputs": [],
   "source": [
    "import storm_analysis.simulator.background as background\n",
    "import storm_analysis.simulator.camera as camera\n",
    "import storm_analysis.simulator.photophysics as photophysics\n",
    "import storm_analysis.simulator.psf as psf\n",
    "import storm_analysis.simulator.simulate as simulate\n",
    "\n",
    "import storm_analysis.diagnostics.spliner.settings as settings\n",
    "import storm_analysis.diagnostics.spliner.configure as configure\n",
    "import storm_analysis.diagnostics.spliner.analyze_data as analyzeData\n",
    "import storm_analysis.diagnostics.spliner.collate as collate\n"
   ]
  },
  {
   "cell_type": "code",
   "execution_count": null,
   "metadata": {},
   "outputs": [],
   "source": [
    "settings.photons = [[20, 500], [20, 1000]]\n",
    "print(settings.photons)\n",
    "\n",
    "settings.iterations = 20\n",
    "settings.n_frames = 10\n",
    "settings.peak_locations = None\n",
    "settings.smooth_psf = False\n"
   ]
  },
  {
   "cell_type": "code",
   "execution_count": null,
   "metadata": {},
   "outputs": [],
   "source": [
    "# Make data using the spline for the PSF.\n",
    "\n",
    "def makeData():\n",
    "    index = 1\n",
    "    for [bg, photons] in settings.photons:\n",
    "\n",
    "        wdir = \"test_{0:02d}\".format(index)\n",
    "        print(wdir)\n",
    "        if not os.path.exists(wdir):\n",
    "            os.makedirs(wdir)\n",
    "\n",
    "        bg_f = lambda s, x, y, i3 : background.UniformBackground(s, x, y, i3, photons = bg)\n",
    "        cam_f = lambda s, x, y, i3 : camera.Ideal(s, x, y, i3, settings.camera_offset)\n",
    "        pp_f = lambda s, x, y, i3 : photophysics.AlwaysOn(s, x, y, i3, photons)\n",
    "        psf_f = lambda s, x, y, i3 : psf.Spline(s, x, y, i3, settings.pixel_size, \"psf.spline\")\n",
    "        \n",
    "        sim = simulate.Simulate(background_factory = bg_f,\n",
    "                                camera_factory = cam_f,\n",
    "                                photophysics_factory = pp_f,\n",
    "                                psf_factory = psf_f,\n",
    "                                dither = False,\n",
    "                                x_size = settings.x_size,\n",
    "                                y_size = settings.y_size)\n",
    "            \n",
    "        sim.simulate(wdir + \"/test.tif\", \"grid_list.hdf5\", settings.n_frames)\n",
    "\n",
    "        index += 1\n"
   ]
  },
  {
   "cell_type": "markdown",
   "metadata": {},
   "source": [
    "### Configure"
   ]
  },
  {
   "cell_type": "code",
   "execution_count": null,
   "metadata": {},
   "outputs": [],
   "source": [
    "configure.configure(False)"
   ]
  },
  {
   "cell_type": "markdown",
   "metadata": {},
   "source": [
    "### Make Data"
   ]
  },
  {
   "cell_type": "code",
   "execution_count": null,
   "metadata": {},
   "outputs": [],
   "source": [
    "makeData()"
   ]
  },
  {
   "cell_type": "markdown",
   "metadata": {},
   "source": [
    "### Analyze data"
   ]
  },
  {
   "cell_type": "code",
   "execution_count": null,
   "metadata": {},
   "outputs": [],
   "source": [
    "%time analyzeData.analyzeData()"
   ]
  },
  {
   "cell_type": "markdown",
   "metadata": {},
   "source": [
    "### Collate data"
   ]
  },
  {
   "cell_type": "code",
   "execution_count": null,
   "metadata": {},
   "outputs": [],
   "source": [
    "collate.collate()"
   ]
  },
  {
   "cell_type": "markdown",
   "metadata": {},
   "source": [
    "### Reference results"
   ]
  },
  {
   "cell_type": "raw",
   "metadata": {},
   "source": [
    "2020-06-09\n",
    "commit 8ddf39270991e463b53339fe4ec3b9e344a955cb\n",
    "\n",
    "Processing test_01\n",
    "Using max_distance 200.0 nm for error calcuations.\n",
    "Processing test_02\n",
    "Using max_distance 200.0 nm for error calcuations.\n",
    "\n",
    "Analysis Summary:\n",
    "Processed 2520 localizations in 3.76 seconds, 670.09/sec\n",
    "Recall 0.64484\n",
    "Noise 0.35516\n",
    "XYZ Error Standard Deviation (nm):\n",
    "test_01\t28.98\t30.14\t52.19\n",
    "test_02\t16.85\t17.06\t26.72\n",
    "\n",
    "XYZ RMSE Accuracy (nm):\n",
    "test_01\t28.98\t30.16\t52.21\n",
    "test_02\t16.90\t17.07\t26.72\n"
   ]
  }
 ],
 "metadata": {
  "kernelspec": {
   "display_name": "Python 3",
   "language": "python",
   "name": "python3"
  },
  "language_info": {
   "codemirror_mode": {
    "name": "ipython",
    "version": 3
   },
   "file_extension": ".py",
   "mimetype": "text/x-python",
   "name": "python",
   "nbconvert_exporter": "python",
   "pygments_lexer": "ipython3",
   "version": "3.6.9"
  }
 },
 "nbformat": 4,
 "nbformat_minor": 2
}

{
 "cells": [
  {
   "cell_type": "markdown",
   "metadata": {},
   "source": [
    "## Fiducial tracking\n",
    "\n",
    "In this example we'll discuss how to do fiducial tracking for drift correction."
   ]
  },
  {
   "cell_type": "markdown",
   "metadata": {},
   "source": [
    "### Configuration\n",
    "\n",
    "In real experiments you'd have fiducials that you were also imaging, either in the same color channel as the data, or in a different color channel. You would then create two localization files, one that at least mostly contains the locations of the fiducials, and another file that contains all the localizations."
   ]
  },
  {
   "cell_type": "code",
   "execution_count": null,
   "metadata": {},
   "outputs": [],
   "source": [
    "import os\n",
    "os.chdir(\"/home/hbabcock/Data/storm_analysis/jy_testing/\")\n",
    "print(os.getcwd())\n",
    "\n",
    "import numpy\n",
    "numpy.random.seed(1) # Set seed so that the example is repeatable."
   ]
  },
  {
   "cell_type": "markdown",
   "metadata": {},
   "source": [
    "Generate sample data for this example."
   ]
  },
  {
   "cell_type": "code",
   "execution_count": null,
   "metadata": {},
   "outputs": [],
   "source": [
    "import storm_analysis.jupyter_examples.fiducial_tracking as fiducial_tracking\n",
    "\n",
    "# Make a simulated movie.\n",
    "fiducial_tracking.makeSampleData()\n",
    "\n",
    "# Make a 3D-DAOSTORM analysis XML file.\n",
    "fiducial_tracking.daoSTORMXML()\n"
   ]
  },
  {
   "cell_type": "markdown",
   "metadata": {},
   "source": [
    "### Analyze fiducials with 3D-DAOSTORM"
   ]
  },
  {
   "cell_type": "code",
   "execution_count": null,
   "metadata": {},
   "outputs": [],
   "source": [
    "import storm_analysis.daostorm_3d.mufit_analysis as mfit\n",
    "\n",
    "if os.path.exists(\"fiducials.hdf5\"):\n",
    "    os.remove(\"fiducials.hdf5\")\n",
    "    \n",
    "mfit.analyze(\"fiducials.tif\", \"fiducials.hdf5\", \"daostorm.xml\")"
   ]
  },
  {
   "cell_type": "markdown",
   "metadata": {},
   "source": [
    "### Track fiducials"
   ]
  },
  {
   "cell_type": "code",
   "execution_count": null,
   "metadata": {},
   "outputs": [],
   "source": [
    "import storm_analysis.sa_utilities.fiducials as fiducials\n",
    "\n",
    "# max_gap - Number of after which a fiducial will be considered to be lost.\n",
    "# radius - Matching radius in pixels.\n",
    "# reference_frame - Localizations from this frame will all be treated as fiducials.\n",
    "#\n",
    "fiducials.trackFiducials(\"fiducials.hdf5\", max_gap = 4, radius = 1, reference_frame = 4)"
   ]
  },
  {
   "cell_type": "markdown",
   "metadata": {},
   "source": [
    "### Plot results"
   ]
  },
  {
   "cell_type": "code",
   "execution_count": null,
   "metadata": {},
   "outputs": [],
   "source": [
    "import matplotlib.pyplot as pyplot\n",
    "\n",
    "with fiducials.SAH5Fiducials(\"fiducials.hdf5\") as h5:\n",
    "    fdcl = h5.getFiducial(1, fields = [\"x\", \"y\"])\n",
    "    \n",
    "    x = fdcl[\"x\"] - numpy.mean(fdcl[\"x\"])\n",
    "    y = fdcl[\"y\"] - numpy.mean(fdcl[\"y\"])\n",
    "    \n",
    "    pyplot.plot(fdcl[\"frame\"], x)\n",
    "    pyplot.plot(fdcl[\"frame\"], y)\n",
    "    pyplot.show()\n",
    "    "
   ]
  },
  {
   "cell_type": "markdown",
   "metadata": {},
   "source": [
    "### Measure the drift\n",
    "\n",
    "We'll do this by averaging together all of the fiducials."
   ]
  },
  {
   "cell_type": "code",
   "execution_count": null,
   "metadata": {},
   "outputs": [],
   "source": [
    "import scipy\n",
    "import scipy.interpolate\n",
    "\n",
    "x_drift = None\n",
    "y_drift = None\n",
    "\n",
    "with fiducials.SAH5Fiducials(\"fiducials.hdf5\") as h5:\n",
    "    ml = h5.getMovieLength()\n",
    "    x = numpy.arange(ml)\n",
    "    x_drift = numpy.zeros(ml)\n",
    "    y_drift = numpy.zeros(ml)\n",
    "    \n",
    "    n_fiducials = 0\n",
    "    for fdcl in h5.fiducialsIterator(fields = [\"x\", \"y\"]):\n",
    "\n",
    "        # Verify this fiducial was present in most of the frames.\n",
    "        if (fdcl[\"frame\"].size < int(0.9 * ml)):\n",
    "            continue\n",
    "        \n",
    "        # Use linear interpolation to fill in missing values.\n",
    "        xpos_int = scipy.interpolate.interp1d(fdcl[\"frame\"], \n",
    "                                              fdcl[\"x\"], \n",
    "                                              kind = 'linear', \n",
    "                                              fill_value = 'extrapolate')\n",
    "        \n",
    "        ypos_int = scipy.interpolate.interp1d(fdcl[\"frame\"], \n",
    "                                              fdcl[\"y\"], \n",
    "                                              kind = 'linear', \n",
    "                                              fill_value = 'extrapolate')\n",
    "\n",
    "        x_drift += xpos_int(x)\n",
    "        y_drift += ypos_int(x)\n",
    "        n_fiducials += 1\n",
    "        \n",
    "    print(n_fiducials, \"fiducials out of\", h5.getNFiducials(), \"were used.\")\n",
    "    x_drift = x_drift/(float(n_fiducials))\n",
    "    y_drift = y_drift/(float(n_fiducials))        "
   ]
  },
  {
   "cell_type": "markdown",
   "metadata": {},
   "source": [
    "Since this a pretty common operation, the SAH5Fiducials class also provides this as a method."
   ]
  },
  {
   "cell_type": "code",
   "execution_count": null,
   "metadata": {},
   "outputs": [],
   "source": [
    "with fiducials.SAH5Fiducials(\"fiducials.hdf5\") as h5:\n",
    "    [ave_fdcl, n_averaged] = h5.averageFiducials(fields = [\"x\", \"y\"], min_frac_occupancy = 0.9)\n",
    "    print(n_averaged, \"fiducials out of\", h5.getNFiducials(), \"were used.\")\n",
    "\n",
    "print()\n",
    "print(\"x difference {0:.3f}\".format(numpy.max(numpy.abs(ave_fdcl[\"x\"] - x_drift))))\n",
    "print(\"y difference {0:.3f}\".format(numpy.max(numpy.abs(ave_fdcl[\"y\"] - y_drift))))\n"
   ]
  },
  {
   "cell_type": "markdown",
   "metadata": {},
   "source": [
    "### Compare with ground truth"
   ]
  },
  {
   "cell_type": "code",
   "execution_count": null,
   "metadata": {},
   "outputs": [],
   "source": [
    "gt_drift = numpy.loadtxt(\"drift.txt\")\n",
    "\n",
    "gt_x = gt_drift[:,0] - gt_drift[0,0]\n",
    "x_drift -= x_drift[0]\n",
    "pyplot.plot(gt_x, color = \"black\")\n",
    "pyplot.scatter(numpy.arange(x_drift.size), x_drift, s = 10)\n",
    "pyplot.show()\n",
    "print(\"Mean x error: {0:3f} pixels\".format(numpy.mean(numpy.abs(gt_x - x_drift))))\n",
    "\n",
    "gt_y = gt_drift[:,1] - gt_drift[0,1]\n",
    "y_drift -= y_drift[0]\n",
    "pyplot.plot(gt_y, color = \"black\")\n",
    "pyplot.scatter(numpy.arange(y_drift.size), y_drift, s = 10)\n",
    "pyplot.show()\n",
    "print(\"Mean y error: {0:3f} pixels\".format(numpy.mean(numpy.abs(gt_y - y_drift))))\n"
   ]
  },
  {
   "cell_type": "markdown",
   "metadata": {},
   "source": [
    "### Apply drift correction and verify\n",
    "\n",
    "Here we're just applying it to the fiducial data file. Normally you'd probably apply it to the localizations data file."
   ]
  },
  {
   "cell_type": "code",
   "execution_count": null,
   "metadata": {},
   "outputs": [],
   "source": [
    "import storm_analysis.sa_library.sa_h5py as saH5Py\n",
    "\n",
    "with saH5Py.SAH5Py(\"fiducials.hdf5\") as h5:\n",
    "    for i in range(x_drift.size):\n",
    "        h5.setDriftCorrection(i, dx = -x_drift[i], dy = -y_drift[i])"
   ]
  },
  {
   "cell_type": "code",
   "execution_count": null,
   "metadata": {},
   "outputs": [],
   "source": [
    "with fiducials.SAH5Fiducials(\"fiducials.hdf5\") as h5:\n",
    "    fdcl = h5.getFiducial(1, fields = [\"x\"])\n",
    "    print(\"Uncorrected: {0:.3f} pixels\".format(numpy.std(fdcl[\"x\"])))\n",
    "    \n",
    "    fdcl = h5.getFiducial(1, drift_corrected = True, fields = [\"x\"])\n",
    "    print(\"Corrected: {0:.3f} pixels\".format(numpy.std(fdcl[\"x\"])))"
   ]
  },
  {
   "cell_type": "code",
   "execution_count": null,
   "metadata": {},
   "outputs": [],
   "source": []
  }
 ],
 "metadata": {
  "kernelspec": {
   "display_name": "Python 3",
   "language": "python",
   "name": "python3"
  },
  "language_info": {
   "codemirror_mode": {
    "name": "ipython",
    "version": 3
   },
   "file_extension": ".py",
   "mimetype": "text/x-python",
   "name": "python",
   "nbconvert_exporter": "python",
   "pygments_lexer": "ipython3",
   "version": "3.6.7"
  }
 },
 "nbformat": 4,
 "nbformat_minor": 2
}
